{
 "cells": [
  {
   "cell_type": "code",
   "execution_count": 1,
   "id": "e2b77b70",
   "metadata": {},
   "outputs": [],
   "source": [
    "#importing libraries\n",
    "\n",
    "import numpy as np\n",
    "import pandas as pd\n",
    "import matplotlib as plt\n",
    "import tensorflow as tf"
   ]
  },
  {
   "cell_type": "code",
   "execution_count": 2,
   "id": "37feb340",
   "metadata": {
    "scrolled": true
   },
   "outputs": [
    {
     "name": "stderr",
     "output_type": "stream",
     "text": [
      "2023-03-15 12:41:07.455643: I tensorflow/stream_executor/cuda/cuda_gpu_executor.cc:936] successful NUMA node read from SysFS had negative value (-1), but there must be at least one NUMA node, so returning NUMA node zero\n",
      "2023-03-15 12:41:07.455958: I tensorflow/stream_executor/cuda/cuda_gpu_executor.cc:936] successful NUMA node read from SysFS had negative value (-1), but there must be at least one NUMA node, so returning NUMA node zero\n",
      "2023-03-15 12:41:07.474284: I tensorflow/stream_executor/cuda/cuda_gpu_executor.cc:936] successful NUMA node read from SysFS had negative value (-1), but there must be at least one NUMA node, so returning NUMA node zero\n",
      "2023-03-15 12:41:07.474518: I tensorflow/stream_executor/cuda/cuda_gpu_executor.cc:936] successful NUMA node read from SysFS had negative value (-1), but there must be at least one NUMA node, so returning NUMA node zero\n",
      "2023-03-15 12:41:07.474716: I tensorflow/stream_executor/cuda/cuda_gpu_executor.cc:936] successful NUMA node read from SysFS had negative value (-1), but there must be at least one NUMA node, so returning NUMA node zero\n",
      "2023-03-15 12:41:07.474912: I tensorflow/stream_executor/cuda/cuda_gpu_executor.cc:936] successful NUMA node read from SysFS had negative value (-1), but there must be at least one NUMA node, so returning NUMA node zero\n"
     ]
    }
   ],
   "source": [
    "#setup GPU\n",
    "gpus = tf.config.experimental.list_physical_devices('GPU')\n",
    "for gpu in gpus:\n",
    "    tf.config.experimental.set_memory_growth(gpu, True)\n",
    "#gpus = tf.config.experimental.list_physical_devices('GPU')\n",
    "#if gpus:\n",
    "#    try:\n",
    "#        # Currently, memory growth needs to be the same across GPUs\n",
    "#       for gpu in gpus:\n",
    "#            tf.config.experimental.set_memory_growth(gpu, True)\n",
    "#        logical_gpus = tf.config.experimental.list_logical_devices('GPU')\n",
    "#        print(len(gpus), \"Physical GPUs,\", len(logical_gpus), \"Logical GPUs\")\n",
    "#    except RuntimeError as e:\n",
    "#        # Memory growth must be set before GPUs have been initialized\n",
    "#        print(e)\n",
    "#"
   ]
  },
  {
   "cell_type": "markdown",
   "id": "86f8686a",
   "metadata": {},
   "source": [
    "### Explore / Analyse data"
   ]
  },
  {
   "cell_type": "code",
   "execution_count": 3,
   "id": "1a634a16",
   "metadata": {},
   "outputs": [
    {
     "data": {
      "text/html": [
       "<div>\n",
       "<style scoped>\n",
       "    .dataframe tbody tr th:only-of-type {\n",
       "        vertical-align: middle;\n",
       "    }\n",
       "\n",
       "    .dataframe tbody tr th {\n",
       "        vertical-align: top;\n",
       "    }\n",
       "\n",
       "    .dataframe thead th {\n",
       "        text-align: right;\n",
       "    }\n",
       "</style>\n",
       "<table border=\"1\" class=\"dataframe\">\n",
       "  <thead>\n",
       "    <tr style=\"text-align: right;\">\n",
       "      <th></th>\n",
       "      <th>id</th>\n",
       "      <th>comment_text</th>\n",
       "      <th>toxic</th>\n",
       "      <th>severe_toxic</th>\n",
       "      <th>obscene</th>\n",
       "      <th>threat</th>\n",
       "      <th>insult</th>\n",
       "      <th>identity_hate</th>\n",
       "    </tr>\n",
       "  </thead>\n",
       "  <tbody>\n",
       "    <tr>\n",
       "      <th>0</th>\n",
       "      <td>0000997932d777bf</td>\n",
       "      <td>Explanation\\nWhy the edits made under my usern...</td>\n",
       "      <td>0</td>\n",
       "      <td>0</td>\n",
       "      <td>0</td>\n",
       "      <td>0</td>\n",
       "      <td>0</td>\n",
       "      <td>0</td>\n",
       "    </tr>\n",
       "    <tr>\n",
       "      <th>1</th>\n",
       "      <td>000103f0d9cfb60f</td>\n",
       "      <td>D'aww! He matches this background colour I'm s...</td>\n",
       "      <td>0</td>\n",
       "      <td>0</td>\n",
       "      <td>0</td>\n",
       "      <td>0</td>\n",
       "      <td>0</td>\n",
       "      <td>0</td>\n",
       "    </tr>\n",
       "    <tr>\n",
       "      <th>2</th>\n",
       "      <td>000113f07ec002fd</td>\n",
       "      <td>Hey man, I'm really not trying to edit war. It...</td>\n",
       "      <td>0</td>\n",
       "      <td>0</td>\n",
       "      <td>0</td>\n",
       "      <td>0</td>\n",
       "      <td>0</td>\n",
       "      <td>0</td>\n",
       "    </tr>\n",
       "    <tr>\n",
       "      <th>3</th>\n",
       "      <td>0001b41b1c6bb37e</td>\n",
       "      <td>\"\\nMore\\nI can't make any real suggestions on ...</td>\n",
       "      <td>0</td>\n",
       "      <td>0</td>\n",
       "      <td>0</td>\n",
       "      <td>0</td>\n",
       "      <td>0</td>\n",
       "      <td>0</td>\n",
       "    </tr>\n",
       "    <tr>\n",
       "      <th>4</th>\n",
       "      <td>0001d958c54c6e35</td>\n",
       "      <td>You, sir, are my hero. Any chance you remember...</td>\n",
       "      <td>0</td>\n",
       "      <td>0</td>\n",
       "      <td>0</td>\n",
       "      <td>0</td>\n",
       "      <td>0</td>\n",
       "      <td>0</td>\n",
       "    </tr>\n",
       "    <tr>\n",
       "      <th>...</th>\n",
       "      <td>...</td>\n",
       "      <td>...</td>\n",
       "      <td>...</td>\n",
       "      <td>...</td>\n",
       "      <td>...</td>\n",
       "      <td>...</td>\n",
       "      <td>...</td>\n",
       "      <td>...</td>\n",
       "    </tr>\n",
       "    <tr>\n",
       "      <th>159566</th>\n",
       "      <td>ffe987279560d7ff</td>\n",
       "      <td>\":::::And for the second time of asking, when ...</td>\n",
       "      <td>0</td>\n",
       "      <td>0</td>\n",
       "      <td>0</td>\n",
       "      <td>0</td>\n",
       "      <td>0</td>\n",
       "      <td>0</td>\n",
       "    </tr>\n",
       "    <tr>\n",
       "      <th>159567</th>\n",
       "      <td>ffea4adeee384e90</td>\n",
       "      <td>You should be ashamed of yourself \\n\\nThat is ...</td>\n",
       "      <td>0</td>\n",
       "      <td>0</td>\n",
       "      <td>0</td>\n",
       "      <td>0</td>\n",
       "      <td>0</td>\n",
       "      <td>0</td>\n",
       "    </tr>\n",
       "    <tr>\n",
       "      <th>159568</th>\n",
       "      <td>ffee36eab5c267c9</td>\n",
       "      <td>Spitzer \\n\\nUmm, theres no actual article for ...</td>\n",
       "      <td>0</td>\n",
       "      <td>0</td>\n",
       "      <td>0</td>\n",
       "      <td>0</td>\n",
       "      <td>0</td>\n",
       "      <td>0</td>\n",
       "    </tr>\n",
       "    <tr>\n",
       "      <th>159569</th>\n",
       "      <td>fff125370e4aaaf3</td>\n",
       "      <td>And it looks like it was actually you who put ...</td>\n",
       "      <td>0</td>\n",
       "      <td>0</td>\n",
       "      <td>0</td>\n",
       "      <td>0</td>\n",
       "      <td>0</td>\n",
       "      <td>0</td>\n",
       "    </tr>\n",
       "    <tr>\n",
       "      <th>159570</th>\n",
       "      <td>fff46fc426af1f9a</td>\n",
       "      <td>\"\\nAnd ... I really don't think you understand...</td>\n",
       "      <td>0</td>\n",
       "      <td>0</td>\n",
       "      <td>0</td>\n",
       "      <td>0</td>\n",
       "      <td>0</td>\n",
       "      <td>0</td>\n",
       "    </tr>\n",
       "  </tbody>\n",
       "</table>\n",
       "<p>159571 rows × 8 columns</p>\n",
       "</div>"
      ],
      "text/plain": [
       "                      id                                       comment_text  \\\n",
       "0       0000997932d777bf  Explanation\\nWhy the edits made under my usern...   \n",
       "1       000103f0d9cfb60f  D'aww! He matches this background colour I'm s...   \n",
       "2       000113f07ec002fd  Hey man, I'm really not trying to edit war. It...   \n",
       "3       0001b41b1c6bb37e  \"\\nMore\\nI can't make any real suggestions on ...   \n",
       "4       0001d958c54c6e35  You, sir, are my hero. Any chance you remember...   \n",
       "...                  ...                                                ...   \n",
       "159566  ffe987279560d7ff  \":::::And for the second time of asking, when ...   \n",
       "159567  ffea4adeee384e90  You should be ashamed of yourself \\n\\nThat is ...   \n",
       "159568  ffee36eab5c267c9  Spitzer \\n\\nUmm, theres no actual article for ...   \n",
       "159569  fff125370e4aaaf3  And it looks like it was actually you who put ...   \n",
       "159570  fff46fc426af1f9a  \"\\nAnd ... I really don't think you understand...   \n",
       "\n",
       "        toxic  severe_toxic  obscene  threat  insult  identity_hate  \n",
       "0           0             0        0       0       0              0  \n",
       "1           0             0        0       0       0              0  \n",
       "2           0             0        0       0       0              0  \n",
       "3           0             0        0       0       0              0  \n",
       "4           0             0        0       0       0              0  \n",
       "...       ...           ...      ...     ...     ...            ...  \n",
       "159566      0             0        0       0       0              0  \n",
       "159567      0             0        0       0       0              0  \n",
       "159568      0             0        0       0       0              0  \n",
       "159569      0             0        0       0       0              0  \n",
       "159570      0             0        0       0       0              0  \n",
       "\n",
       "[159571 rows x 8 columns]"
      ]
     },
     "execution_count": 3,
     "metadata": {},
     "output_type": "execute_result"
    }
   ],
   "source": [
    "#reading files\n",
    "\n",
    "train_data = pd.read_csv(\"data/train.csv\")\n",
    "train_data\n",
    "\n",
    "# the column is not being displayed totally, so we will increase the width"
   ]
  },
  {
   "cell_type": "code",
   "execution_count": 4,
   "id": "78ac8232",
   "metadata": {},
   "outputs": [
    {
     "data": {
      "text/plain": [
       "\"Hey man, I'm really not trying to edit war. It's just that this guy is constantly removing relevant information and talking to me through edits instead of my talk page. He seems to care more about the formatting than the actual info.\""
      ]
     },
     "execution_count": 4,
     "metadata": {},
     "output_type": "execute_result"
    }
   ],
   "source": [
    "train_data.iloc[2]['comment_text']"
   ]
  },
  {
   "cell_type": "code",
   "execution_count": 5,
   "id": "34deb4c3",
   "metadata": {},
   "outputs": [
    {
     "data": {
      "text/plain": [
       "toxic            0\n",
       "severe_toxic     0\n",
       "obscene          0\n",
       "threat           0\n",
       "insult           0\n",
       "identity_hate    0\n",
       "Name: 2, dtype: int64"
      ]
     },
     "execution_count": 5,
     "metadata": {},
     "output_type": "execute_result"
    }
   ],
   "source": [
    "train_data[train_data.columns[2:]].iloc[2]\n",
    "\n",
    "# This shows that the following comment is not toxic at all"
   ]
  },
  {
   "cell_type": "code",
   "execution_count": 6,
   "id": "727347ee",
   "metadata": {},
   "outputs": [],
   "source": [
    "#display full comment by increasing the column width using pandas\n",
    "pd.set_option('display.max_colwidth', None)"
   ]
  },
  {
   "cell_type": "code",
   "execution_count": 7,
   "id": "872be2ab",
   "metadata": {},
   "outputs": [
    {
     "data": {
      "text/html": [
       "<div>\n",
       "<style scoped>\n",
       "    .dataframe tbody tr th:only-of-type {\n",
       "        vertical-align: middle;\n",
       "    }\n",
       "\n",
       "    .dataframe tbody tr th {\n",
       "        vertical-align: top;\n",
       "    }\n",
       "\n",
       "    .dataframe thead th {\n",
       "        text-align: right;\n",
       "    }\n",
       "</style>\n",
       "<table border=\"1\" class=\"dataframe\">\n",
       "  <thead>\n",
       "    <tr style=\"text-align: right;\">\n",
       "      <th></th>\n",
       "      <th>id</th>\n",
       "      <th>comment_text</th>\n",
       "      <th>toxic</th>\n",
       "      <th>severe_toxic</th>\n",
       "      <th>obscene</th>\n",
       "      <th>threat</th>\n",
       "      <th>insult</th>\n",
       "      <th>identity_hate</th>\n",
       "    </tr>\n",
       "  </thead>\n",
       "  <tbody>\n",
       "    <tr>\n",
       "      <th>0</th>\n",
       "      <td>0000997932d777bf</td>\n",
       "      <td>Explanation\\nWhy the edits made under my username Hardcore Metallica Fan were reverted? They weren't vandalisms, just closure on some GAs after I voted at New York Dolls FAC. And please don't remove the template from the talk page since I'm retired now.89.205.38.27</td>\n",
       "      <td>0</td>\n",
       "      <td>0</td>\n",
       "      <td>0</td>\n",
       "      <td>0</td>\n",
       "      <td>0</td>\n",
       "      <td>0</td>\n",
       "    </tr>\n",
       "    <tr>\n",
       "      <th>1</th>\n",
       "      <td>000103f0d9cfb60f</td>\n",
       "      <td>D'aww! He matches this background colour I'm seemingly stuck with. Thanks.  (talk) 21:51, January 11, 2016 (UTC)</td>\n",
       "      <td>0</td>\n",
       "      <td>0</td>\n",
       "      <td>0</td>\n",
       "      <td>0</td>\n",
       "      <td>0</td>\n",
       "      <td>0</td>\n",
       "    </tr>\n",
       "    <tr>\n",
       "      <th>2</th>\n",
       "      <td>000113f07ec002fd</td>\n",
       "      <td>Hey man, I'm really not trying to edit war. It's just that this guy is constantly removing relevant information and talking to me through edits instead of my talk page. He seems to care more about the formatting than the actual info.</td>\n",
       "      <td>0</td>\n",
       "      <td>0</td>\n",
       "      <td>0</td>\n",
       "      <td>0</td>\n",
       "      <td>0</td>\n",
       "      <td>0</td>\n",
       "    </tr>\n",
       "    <tr>\n",
       "      <th>3</th>\n",
       "      <td>0001b41b1c6bb37e</td>\n",
       "      <td>\"\\nMore\\nI can't make any real suggestions on improvement - I wondered if the section statistics should be later on, or a subsection of \"\"types of accidents\"\"  -I think the references may need tidying so that they are all in the exact same format ie date format etc. I can do that later on, if no-one else does first - if you have any preferences for formatting style on references or want to do it yourself please let me know.\\n\\nThere appears to be a backlog on articles for review so I guess there may be a delay until a reviewer turns up. It's listed in the relevant form eg Wikipedia:Good_article_nominations#Transport  \"</td>\n",
       "      <td>0</td>\n",
       "      <td>0</td>\n",
       "      <td>0</td>\n",
       "      <td>0</td>\n",
       "      <td>0</td>\n",
       "      <td>0</td>\n",
       "    </tr>\n",
       "    <tr>\n",
       "      <th>4</th>\n",
       "      <td>0001d958c54c6e35</td>\n",
       "      <td>You, sir, are my hero. Any chance you remember what page that's on?</td>\n",
       "      <td>0</td>\n",
       "      <td>0</td>\n",
       "      <td>0</td>\n",
       "      <td>0</td>\n",
       "      <td>0</td>\n",
       "      <td>0</td>\n",
       "    </tr>\n",
       "    <tr>\n",
       "      <th>...</th>\n",
       "      <td>...</td>\n",
       "      <td>...</td>\n",
       "      <td>...</td>\n",
       "      <td>...</td>\n",
       "      <td>...</td>\n",
       "      <td>...</td>\n",
       "      <td>...</td>\n",
       "      <td>...</td>\n",
       "    </tr>\n",
       "    <tr>\n",
       "      <th>159566</th>\n",
       "      <td>ffe987279560d7ff</td>\n",
       "      <td>\":::::And for the second time of asking, when your view completely contradicts the coverage in reliable sources, why should anyone care what you feel? You can't even give a consistent argument - is the opening only supposed to mention significant aspects, or the \"\"most significant\"\" ones?   \\n\\n\"</td>\n",
       "      <td>0</td>\n",
       "      <td>0</td>\n",
       "      <td>0</td>\n",
       "      <td>0</td>\n",
       "      <td>0</td>\n",
       "      <td>0</td>\n",
       "    </tr>\n",
       "    <tr>\n",
       "      <th>159567</th>\n",
       "      <td>ffea4adeee384e90</td>\n",
       "      <td>You should be ashamed of yourself \\n\\nThat is a horrible thing you put on my talk page.  128.61.19.93</td>\n",
       "      <td>0</td>\n",
       "      <td>0</td>\n",
       "      <td>0</td>\n",
       "      <td>0</td>\n",
       "      <td>0</td>\n",
       "      <td>0</td>\n",
       "    </tr>\n",
       "    <tr>\n",
       "      <th>159568</th>\n",
       "      <td>ffee36eab5c267c9</td>\n",
       "      <td>Spitzer \\n\\nUmm, theres no actual article for prostitution ring.  - Crunch Captain.</td>\n",
       "      <td>0</td>\n",
       "      <td>0</td>\n",
       "      <td>0</td>\n",
       "      <td>0</td>\n",
       "      <td>0</td>\n",
       "      <td>0</td>\n",
       "    </tr>\n",
       "    <tr>\n",
       "      <th>159569</th>\n",
       "      <td>fff125370e4aaaf3</td>\n",
       "      <td>And it looks like it was actually you who put on the speedy to have the first version deleted now that I look at it.</td>\n",
       "      <td>0</td>\n",
       "      <td>0</td>\n",
       "      <td>0</td>\n",
       "      <td>0</td>\n",
       "      <td>0</td>\n",
       "      <td>0</td>\n",
       "    </tr>\n",
       "    <tr>\n",
       "      <th>159570</th>\n",
       "      <td>fff46fc426af1f9a</td>\n",
       "      <td>\"\\nAnd ... I really don't think you understand.  I came here and my idea was bad right away.  What kind of community goes \"\"you have bad ideas\"\" go away, instead of helping rewrite them.   \"</td>\n",
       "      <td>0</td>\n",
       "      <td>0</td>\n",
       "      <td>0</td>\n",
       "      <td>0</td>\n",
       "      <td>0</td>\n",
       "      <td>0</td>\n",
       "    </tr>\n",
       "  </tbody>\n",
       "</table>\n",
       "<p>159571 rows × 8 columns</p>\n",
       "</div>"
      ],
      "text/plain": [
       "                      id  \\\n",
       "0       0000997932d777bf   \n",
       "1       000103f0d9cfb60f   \n",
       "2       000113f07ec002fd   \n",
       "3       0001b41b1c6bb37e   \n",
       "4       0001d958c54c6e35   \n",
       "...                  ...   \n",
       "159566  ffe987279560d7ff   \n",
       "159567  ffea4adeee384e90   \n",
       "159568  ffee36eab5c267c9   \n",
       "159569  fff125370e4aaaf3   \n",
       "159570  fff46fc426af1f9a   \n",
       "\n",
       "                                                                                                                                                                                                                                                                                                                                                                                                                                                                                                                                                                                                                                              comment_text  \\\n",
       "0                                                                                                                                                                                                                                                                                                                                                                                Explanation\\nWhy the edits made under my username Hardcore Metallica Fan were reverted? They weren't vandalisms, just closure on some GAs after I voted at New York Dolls FAC. And please don't remove the template from the talk page since I'm retired now.89.205.38.27   \n",
       "1                                                                                                                                                                                                                                                                                                                                                                                                                                                                                                                                         D'aww! He matches this background colour I'm seemingly stuck with. Thanks.  (talk) 21:51, January 11, 2016 (UTC)   \n",
       "2                                                                                                                                                                                                                                                                                                                                                                                                                Hey man, I'm really not trying to edit war. It's just that this guy is constantly removing relevant information and talking to me through edits instead of my talk page. He seems to care more about the formatting than the actual info.   \n",
       "3       \"\\nMore\\nI can't make any real suggestions on improvement - I wondered if the section statistics should be later on, or a subsection of \"\"types of accidents\"\"  -I think the references may need tidying so that they are all in the exact same format ie date format etc. I can do that later on, if no-one else does first - if you have any preferences for formatting style on references or want to do it yourself please let me know.\\n\\nThere appears to be a backlog on articles for review so I guess there may be a delay until a reviewer turns up. It's listed in the relevant form eg Wikipedia:Good_article_nominations#Transport  \"   \n",
       "4                                                                                                                                                                                                                                                                                                                                                                                                                                                                                                                                                                                      You, sir, are my hero. Any chance you remember what page that's on?   \n",
       "...                                                                                                                                                                                                                                                                                                                                                                                                                                                                                                                                                                                                                                                    ...   \n",
       "159566                                                                                                                                                                                                                                                                                                                                           \":::::And for the second time of asking, when your view completely contradicts the coverage in reliable sources, why should anyone care what you feel? You can't even give a consistent argument - is the opening only supposed to mention significant aspects, or the \"\"most significant\"\" ones?   \\n\\n\"   \n",
       "159567                                                                                                                                                                                                                                                                                                                                                                                                                                                                                                                                               You should be ashamed of yourself \\n\\nThat is a horrible thing you put on my talk page.  128.61.19.93   \n",
       "159568                                                                                                                                                                                                                                                                                                                                                                                                                                                                                                                                                                 Spitzer \\n\\nUmm, theres no actual article for prostitution ring.  - Crunch Captain.   \n",
       "159569                                                                                                                                                                                                                                                                                                                                                                                                                                                                                                                                And it looks like it was actually you who put on the speedy to have the first version deleted now that I look at it.   \n",
       "159570                                                                                                                                                                                                                                                                                                                                                                                                                                                      \"\\nAnd ... I really don't think you understand.  I came here and my idea was bad right away.  What kind of community goes \"\"you have bad ideas\"\" go away, instead of helping rewrite them.   \"   \n",
       "\n",
       "        toxic  severe_toxic  obscene  threat  insult  identity_hate  \n",
       "0           0             0        0       0       0              0  \n",
       "1           0             0        0       0       0              0  \n",
       "2           0             0        0       0       0              0  \n",
       "3           0             0        0       0       0              0  \n",
       "4           0             0        0       0       0              0  \n",
       "...       ...           ...      ...     ...     ...            ...  \n",
       "159566      0             0        0       0       0              0  \n",
       "159567      0             0        0       0       0              0  \n",
       "159568      0             0        0       0       0              0  \n",
       "159569      0             0        0       0       0              0  \n",
       "159570      0             0        0       0       0              0  \n",
       "\n",
       "[159571 rows x 8 columns]"
      ]
     },
     "execution_count": 7,
     "metadata": {},
     "output_type": "execute_result"
    }
   ],
   "source": [
    "#recheck the data with increased column width\n",
    "train_data"
   ]
  },
  {
   "cell_type": "code",
   "execution_count": 8,
   "id": "64608611",
   "metadata": {},
   "outputs": [
    {
     "name": "stdout",
     "output_type": "stream",
     "text": [
      "<class 'pandas.core.frame.DataFrame'>\n",
      "RangeIndex: 159571 entries, 0 to 159570\n",
      "Data columns (total 8 columns):\n",
      " #   Column         Non-Null Count   Dtype \n",
      "---  ------         --------------   ----- \n",
      " 0   id             159571 non-null  object\n",
      " 1   comment_text   159571 non-null  object\n",
      " 2   toxic          159571 non-null  int64 \n",
      " 3   severe_toxic   159571 non-null  int64 \n",
      " 4   obscene        159571 non-null  int64 \n",
      " 5   threat         159571 non-null  int64 \n",
      " 6   insult         159571 non-null  int64 \n",
      " 7   identity_hate  159571 non-null  int64 \n",
      "dtypes: int64(6), object(2)\n",
      "memory usage: 9.7+ MB\n"
     ]
    },
    {
     "data": {
      "text/html": [
       "<div>\n",
       "<style scoped>\n",
       "    .dataframe tbody tr th:only-of-type {\n",
       "        vertical-align: middle;\n",
       "    }\n",
       "\n",
       "    .dataframe tbody tr th {\n",
       "        vertical-align: top;\n",
       "    }\n",
       "\n",
       "    .dataframe thead th {\n",
       "        text-align: right;\n",
       "    }\n",
       "</style>\n",
       "<table border=\"1\" class=\"dataframe\">\n",
       "  <thead>\n",
       "    <tr style=\"text-align: right;\">\n",
       "      <th></th>\n",
       "      <th>toxic</th>\n",
       "      <th>severe_toxic</th>\n",
       "      <th>obscene</th>\n",
       "      <th>threat</th>\n",
       "      <th>insult</th>\n",
       "      <th>identity_hate</th>\n",
       "    </tr>\n",
       "  </thead>\n",
       "  <tbody>\n",
       "    <tr>\n",
       "      <th>count</th>\n",
       "      <td>159571.000000</td>\n",
       "      <td>159571.000000</td>\n",
       "      <td>159571.000000</td>\n",
       "      <td>159571.000000</td>\n",
       "      <td>159571.000000</td>\n",
       "      <td>159571.000000</td>\n",
       "    </tr>\n",
       "    <tr>\n",
       "      <th>mean</th>\n",
       "      <td>0.095844</td>\n",
       "      <td>0.009996</td>\n",
       "      <td>0.052948</td>\n",
       "      <td>0.002996</td>\n",
       "      <td>0.049364</td>\n",
       "      <td>0.008805</td>\n",
       "    </tr>\n",
       "    <tr>\n",
       "      <th>std</th>\n",
       "      <td>0.294379</td>\n",
       "      <td>0.099477</td>\n",
       "      <td>0.223931</td>\n",
       "      <td>0.054650</td>\n",
       "      <td>0.216627</td>\n",
       "      <td>0.093420</td>\n",
       "    </tr>\n",
       "    <tr>\n",
       "      <th>min</th>\n",
       "      <td>0.000000</td>\n",
       "      <td>0.000000</td>\n",
       "      <td>0.000000</td>\n",
       "      <td>0.000000</td>\n",
       "      <td>0.000000</td>\n",
       "      <td>0.000000</td>\n",
       "    </tr>\n",
       "    <tr>\n",
       "      <th>25%</th>\n",
       "      <td>0.000000</td>\n",
       "      <td>0.000000</td>\n",
       "      <td>0.000000</td>\n",
       "      <td>0.000000</td>\n",
       "      <td>0.000000</td>\n",
       "      <td>0.000000</td>\n",
       "    </tr>\n",
       "    <tr>\n",
       "      <th>50%</th>\n",
       "      <td>0.000000</td>\n",
       "      <td>0.000000</td>\n",
       "      <td>0.000000</td>\n",
       "      <td>0.000000</td>\n",
       "      <td>0.000000</td>\n",
       "      <td>0.000000</td>\n",
       "    </tr>\n",
       "    <tr>\n",
       "      <th>75%</th>\n",
       "      <td>0.000000</td>\n",
       "      <td>0.000000</td>\n",
       "      <td>0.000000</td>\n",
       "      <td>0.000000</td>\n",
       "      <td>0.000000</td>\n",
       "      <td>0.000000</td>\n",
       "    </tr>\n",
       "    <tr>\n",
       "      <th>max</th>\n",
       "      <td>1.000000</td>\n",
       "      <td>1.000000</td>\n",
       "      <td>1.000000</td>\n",
       "      <td>1.000000</td>\n",
       "      <td>1.000000</td>\n",
       "      <td>1.000000</td>\n",
       "    </tr>\n",
       "  </tbody>\n",
       "</table>\n",
       "</div>"
      ],
      "text/plain": [
       "               toxic   severe_toxic        obscene         threat  \\\n",
       "count  159571.000000  159571.000000  159571.000000  159571.000000   \n",
       "mean        0.095844       0.009996       0.052948       0.002996   \n",
       "std         0.294379       0.099477       0.223931       0.054650   \n",
       "min         0.000000       0.000000       0.000000       0.000000   \n",
       "25%         0.000000       0.000000       0.000000       0.000000   \n",
       "50%         0.000000       0.000000       0.000000       0.000000   \n",
       "75%         0.000000       0.000000       0.000000       0.000000   \n",
       "max         1.000000       1.000000       1.000000       1.000000   \n",
       "\n",
       "              insult  identity_hate  \n",
       "count  159571.000000  159571.000000  \n",
       "mean        0.049364       0.008805  \n",
       "std         0.216627       0.093420  \n",
       "min         0.000000       0.000000  \n",
       "25%         0.000000       0.000000  \n",
       "50%         0.000000       0.000000  \n",
       "75%         0.000000       0.000000  \n",
       "max         1.000000       1.000000  "
      ]
     },
     "execution_count": 8,
     "metadata": {},
     "output_type": "execute_result"
    }
   ],
   "source": [
    "#retrieve the information\n",
    "train_data.info()\n",
    "train_data.describe()"
   ]
  },
  {
   "cell_type": "code",
   "execution_count": 9,
   "id": "3a728d09",
   "metadata": {},
   "outputs": [
    {
     "data": {
      "text/html": [
       "<div>\n",
       "<style scoped>\n",
       "    .dataframe tbody tr th:only-of-type {\n",
       "        vertical-align: middle;\n",
       "    }\n",
       "\n",
       "    .dataframe tbody tr th {\n",
       "        vertical-align: top;\n",
       "    }\n",
       "\n",
       "    .dataframe thead th {\n",
       "        text-align: right;\n",
       "    }\n",
       "</style>\n",
       "<table border=\"1\" class=\"dataframe\">\n",
       "  <thead>\n",
       "    <tr style=\"text-align: right;\">\n",
       "      <th></th>\n",
       "      <th>id</th>\n",
       "      <th>comment_text</th>\n",
       "      <th>toxic</th>\n",
       "      <th>severe_toxic</th>\n",
       "      <th>obscene</th>\n",
       "      <th>threat</th>\n",
       "      <th>insult</th>\n",
       "      <th>identity_hate</th>\n",
       "    </tr>\n",
       "  </thead>\n",
       "  <tbody>\n",
       "    <tr>\n",
       "      <th>6</th>\n",
       "      <td>0002bcb3da6cb337</td>\n",
       "      <td>COCKSUCKER BEFORE YOU PISS AROUND ON MY WORK</td>\n",
       "      <td>1</td>\n",
       "      <td>1</td>\n",
       "      <td>1</td>\n",
       "      <td>0</td>\n",
       "      <td>1</td>\n",
       "      <td>0</td>\n",
       "    </tr>\n",
       "    <tr>\n",
       "      <th>12</th>\n",
       "      <td>0005c987bdfc9d4b</td>\n",
       "      <td>Hey... what is it..\\n@ | talk .\\nWhat is it... an exclusive group of some WP TALIBANS...who are good at destroying, self-appointed purist who GANG UP any one who asks them questions abt their ANTI-SOCIAL and DESTRUCTIVE (non)-contribution at WP?\\n\\nAsk Sityush to clean up his behavior than issue me nonsensical warnings...</td>\n",
       "      <td>1</td>\n",
       "      <td>0</td>\n",
       "      <td>0</td>\n",
       "      <td>0</td>\n",
       "      <td>0</td>\n",
       "      <td>0</td>\n",
       "    </tr>\n",
       "    <tr>\n",
       "      <th>16</th>\n",
       "      <td>0007e25b2121310b</td>\n",
       "      <td>Bye! \\n\\nDon't look, come or think of comming back! Tosser.</td>\n",
       "      <td>1</td>\n",
       "      <td>0</td>\n",
       "      <td>0</td>\n",
       "      <td>0</td>\n",
       "      <td>0</td>\n",
       "      <td>0</td>\n",
       "    </tr>\n",
       "    <tr>\n",
       "      <th>42</th>\n",
       "      <td>001810bf8c45bf5f</td>\n",
       "      <td>You are gay or antisemmitian? \\n\\nArchangel WHite Tiger\\n\\nMeow! Greetingshhh!\\n\\nUh, there are two ways, why you do erased my comment about WW2, that holocaust was brutally slaying of Jews and not gays/Gypsys/Slavs/anyone...\\n\\n1 - If you are anti-semitian, than shave your head bald and go to the skinhead meetings!\\n\\n2 - If you doubt words of the Bible, that homosexuality is a deadly sin, make a pentagram tatoo on your forehead go to the satanistic masses with your gay pals!\\n\\n3 - First and last warning, you fucking gay - I won't appreciate if any more nazi shwain would write in my page! I don't wish to talk to you anymore!\\n\\nBeware of the Dark Side!</td>\n",
       "      <td>1</td>\n",
       "      <td>0</td>\n",
       "      <td>1</td>\n",
       "      <td>0</td>\n",
       "      <td>1</td>\n",
       "      <td>1</td>\n",
       "    </tr>\n",
       "    <tr>\n",
       "      <th>43</th>\n",
       "      <td>00190820581d90ce</td>\n",
       "      <td>FUCK YOUR FILTHY MOTHER IN THE ASS, DRY!</td>\n",
       "      <td>1</td>\n",
       "      <td>0</td>\n",
       "      <td>1</td>\n",
       "      <td>0</td>\n",
       "      <td>1</td>\n",
       "      <td>0</td>\n",
       "    </tr>\n",
       "  </tbody>\n",
       "</table>\n",
       "</div>"
      ],
      "text/plain": [
       "                  id  \\\n",
       "6   0002bcb3da6cb337   \n",
       "12  0005c987bdfc9d4b   \n",
       "16  0007e25b2121310b   \n",
       "42  001810bf8c45bf5f   \n",
       "43  00190820581d90ce   \n",
       "\n",
       "                                                                                                                                                                                                                                                                                                                                                                                                                                                                                                                                                                                                                                                                              comment_text  \\\n",
       "6                                                                                                                                                                                                                                                                                                                                                                                                                                                                                                                                                                                                                                             COCKSUCKER BEFORE YOU PISS AROUND ON MY WORK   \n",
       "12                                                                                                                                                                                                                                                                                                                                                     Hey... what is it..\\n@ | talk .\\nWhat is it... an exclusive group of some WP TALIBANS...who are good at destroying, self-appointed purist who GANG UP any one who asks them questions abt their ANTI-SOCIAL and DESTRUCTIVE (non)-contribution at WP?\\n\\nAsk Sityush to clean up his behavior than issue me nonsensical warnings...   \n",
       "16                                                                                                                                                                                                                                                                                                                                                                                                                                                                                                                                                                                                                             Bye! \\n\\nDon't look, come or think of comming back! Tosser.   \n",
       "42  You are gay or antisemmitian? \\n\\nArchangel WHite Tiger\\n\\nMeow! Greetingshhh!\\n\\nUh, there are two ways, why you do erased my comment about WW2, that holocaust was brutally slaying of Jews and not gays/Gypsys/Slavs/anyone...\\n\\n1 - If you are anti-semitian, than shave your head bald and go to the skinhead meetings!\\n\\n2 - If you doubt words of the Bible, that homosexuality is a deadly sin, make a pentagram tatoo on your forehead go to the satanistic masses with your gay pals!\\n\\n3 - First and last warning, you fucking gay - I won't appreciate if any more nazi shwain would write in my page! I don't wish to talk to you anymore!\\n\\nBeware of the Dark Side!   \n",
       "43                                                                                                                                                                                                                                                                                                                                                                                                                                                                                                                                                                                                                                                FUCK YOUR FILTHY MOTHER IN THE ASS, DRY!   \n",
       "\n",
       "    toxic  severe_toxic  obscene  threat  insult  identity_hate  \n",
       "6       1             1        1       0       1              0  \n",
       "12      1             0        0       0       0              0  \n",
       "16      1             0        0       0       0              0  \n",
       "42      1             0        1       0       1              1  \n",
       "43      1             0        1       0       1              0  "
      ]
     },
     "execution_count": 9,
     "metadata": {},
     "output_type": "execute_result"
    }
   ],
   "source": [
    "#now lets check first 5 data with toxic or hate comments and LAUGH a BIT haha\n",
    "train_data[train_data['toxic'] == 1].head(5)"
   ]
  },
  {
   "cell_type": "code",
   "execution_count": 10,
   "id": "249842e0",
   "metadata": {},
   "outputs": [
    {
     "data": {
      "text/html": [
       "<div>\n",
       "<style scoped>\n",
       "    .dataframe tbody tr th:only-of-type {\n",
       "        vertical-align: middle;\n",
       "    }\n",
       "\n",
       "    .dataframe tbody tr th {\n",
       "        vertical-align: top;\n",
       "    }\n",
       "\n",
       "    .dataframe thead th {\n",
       "        text-align: right;\n",
       "    }\n",
       "</style>\n",
       "<table border=\"1\" class=\"dataframe\">\n",
       "  <thead>\n",
       "    <tr style=\"text-align: right;\">\n",
       "      <th></th>\n",
       "      <th>id</th>\n",
       "      <th>comment_text</th>\n",
       "      <th>toxic</th>\n",
       "      <th>severe_toxic</th>\n",
       "      <th>obscene</th>\n",
       "      <th>threat</th>\n",
       "      <th>insult</th>\n",
       "      <th>identity_hate</th>\n",
       "    </tr>\n",
       "  </thead>\n",
       "  <tbody>\n",
       "    <tr>\n",
       "      <th>15134</th>\n",
       "      <td>27f75ebcd65baea3</td>\n",
       "      <td>\"Dude, just listen to yourself.  Do you really have nothing better to do than chastise Catholics for not calling ourselves \"\"Roman\"\" as you think we should?  You have too much time on your hands, and too little brains in your head.  Seriously, get it together.  It's not my fault if Protestants are generally ignorant about their Catholic brethren.  \\n\\n\"</td>\n",
       "      <td>1</td>\n",
       "      <td>0</td>\n",
       "      <td>0</td>\n",
       "      <td>0</td>\n",
       "      <td>0</td>\n",
       "      <td>0</td>\n",
       "    </tr>\n",
       "    <tr>\n",
       "      <th>115613</th>\n",
       "      <td>6a598d5b8f170894</td>\n",
       "      <td>NAZI WIKIPEDIA ADMINS\\nEVERYONE KNOWS THEY LOCK THESE ARTICLES SO ONLY THE LIBERAL NAZI WIKI ADMINS CAN CHANGE THE INFORMATION. THIS SITE IS THE WORSE WHEN IT COMES TO BEING FAIR!! ALL THE ADMINS VOTE THEIR FRIENDS IN AS ADMINS. IT IS A BIASED WEBSITE AND THEY DO NOT ALLOW INFORMATION THAT ALLOWS THEIR POLITICAL CANDIDATES TO LOOK BAD. THIS IS WHAT THEY DO IN CHINA AND NOW ON WIKIPEDIA.</td>\n",
       "      <td>1</td>\n",
       "      <td>0</td>\n",
       "      <td>0</td>\n",
       "      <td>0</td>\n",
       "      <td>0</td>\n",
       "      <td>0</td>\n",
       "    </tr>\n",
       "    <tr>\n",
       "      <th>53627</th>\n",
       "      <td>8f5ba7e27b5a2012</td>\n",
       "      <td>We Fuckum Arab Babiesum</td>\n",
       "      <td>1</td>\n",
       "      <td>0</td>\n",
       "      <td>1</td>\n",
       "      <td>0</td>\n",
       "      <td>1</td>\n",
       "      <td>0</td>\n",
       "    </tr>\n",
       "    <tr>\n",
       "      <th>76509</th>\n",
       "      <td>ccd8bae5e3a1ac1a</td>\n",
       "      <td>Fuck off you right wing nazi scum. BTW your crazy religion is a myth.</td>\n",
       "      <td>1</td>\n",
       "      <td>0</td>\n",
       "      <td>1</td>\n",
       "      <td>0</td>\n",
       "      <td>1</td>\n",
       "      <td>1</td>\n",
       "    </tr>\n",
       "    <tr>\n",
       "      <th>37236</th>\n",
       "      <td>63628488c9c66d38</td>\n",
       "      <td>, 12 August 2012 (UTC)\\n\\nNickelodeon Workers, you are conniving, GREEDY-ASS shitcans that don't give a damned fuck about ANYTHING MORE THAN MONEY, FAME, AND FORTUNE. WHAT IN THE WORLD ARE YOU DICKBEATERS TRYING TO DO?!?!?!?! WIN YOURSELVES A BUNCH OF HOT GIRLS!!!!! GET SOME DAMNED LIVES YOU FUCKING TURDS!!!!!!!!!!! 71.64.6.46  01:27</td>\n",
       "      <td>1</td>\n",
       "      <td>0</td>\n",
       "      <td>0</td>\n",
       "      <td>0</td>\n",
       "      <td>0</td>\n",
       "      <td>0</td>\n",
       "    </tr>\n",
       "  </tbody>\n",
       "</table>\n",
       "</div>"
      ],
      "text/plain": [
       "                      id  \\\n",
       "15134   27f75ebcd65baea3   \n",
       "115613  6a598d5b8f170894   \n",
       "53627   8f5ba7e27b5a2012   \n",
       "76509   ccd8bae5e3a1ac1a   \n",
       "37236   63628488c9c66d38   \n",
       "\n",
       "                                                                                                                                                                                                                                                                                                                                                                                                 comment_text  \\\n",
       "15134                                     \"Dude, just listen to yourself.  Do you really have nothing better to do than chastise Catholics for not calling ourselves \"\"Roman\"\" as you think we should?  You have too much time on your hands, and too little brains in your head.  Seriously, get it together.  It's not my fault if Protestants are generally ignorant about their Catholic brethren.  \\n\\n\"   \n",
       "115613  NAZI WIKIPEDIA ADMINS\\nEVERYONE KNOWS THEY LOCK THESE ARTICLES SO ONLY THE LIBERAL NAZI WIKI ADMINS CAN CHANGE THE INFORMATION. THIS SITE IS THE WORSE WHEN IT COMES TO BEING FAIR!! ALL THE ADMINS VOTE THEIR FRIENDS IN AS ADMINS. IT IS A BIASED WEBSITE AND THEY DO NOT ALLOW INFORMATION THAT ALLOWS THEIR POLITICAL CANDIDATES TO LOOK BAD. THIS IS WHAT THEY DO IN CHINA AND NOW ON WIKIPEDIA.   \n",
       "53627                                                                                                                                                                                                                                                                                                                                                                                 We Fuckum Arab Babiesum   \n",
       "76509                                                                                                                                                                                                                                                                                                                                   Fuck off you right wing nazi scum. BTW your crazy religion is a myth.   \n",
       "37236                                                         , 12 August 2012 (UTC)\\n\\nNickelodeon Workers, you are conniving, GREEDY-ASS shitcans that don't give a damned fuck about ANYTHING MORE THAN MONEY, FAME, AND FORTUNE. WHAT IN THE WORLD ARE YOU DICKBEATERS TRYING TO DO?!?!?!?! WIN YOURSELVES A BUNCH OF HOT GIRLS!!!!! GET SOME DAMNED LIVES YOU FUCKING TURDS!!!!!!!!!!! 71.64.6.46  01:27   \n",
       "\n",
       "        toxic  severe_toxic  obscene  threat  insult  identity_hate  \n",
       "15134       1             0        0       0       0              0  \n",
       "115613      1             0        0       0       0              0  \n",
       "53627       1             0        1       0       1              0  \n",
       "76509       1             0        1       0       1              1  \n",
       "37236       1             0        0       0       0              0  "
      ]
     },
     "execution_count": 10,
     "metadata": {},
     "output_type": "execute_result"
    }
   ],
   "source": [
    "#random sampling using pd.sample(n, frac,....)\n",
    "train_data[train_data['toxic'] == 1].sample(5)"
   ]
  },
  {
   "cell_type": "markdown",
   "id": "3072c545",
   "metadata": {},
   "source": [
    "### Process the Data using Tokenizing"
   ]
  },
  {
   "cell_type": "code",
   "execution_count": 11,
   "id": "bae9f817",
   "metadata": {},
   "outputs": [],
   "source": [
    "# Using textvectorization for natural language, otherwise for normal string, use StringLookup\n",
    "from tensorflow.keras.layers import TextVectorization\n",
    "\n",
    "TextVectorization??\n",
    "\n",
    "#This layer has basic options for managing text in a Keras model. It transforms\n",
    "#a batch of strings (one example = one string) into either a list of token\n",
    "#indices (one example = 1D tensor of integer token indices) or a dense\n",
    "#representation (one example = 1D tensor of float values representing data\n",
    "#about the example's tokens). This layer is meant to handle natural language\n",
    "#inputs. To handle simple string inputs (categorical strings or pre-tokenized\n",
    "#strings) see `tf.keras.layers.StringLookup`."
   ]
  },
  {
   "cell_type": "code",
   "execution_count": 12,
   "id": "2ca622db",
   "metadata": {},
   "outputs": [
    {
     "data": {
      "text/plain": [
       "0                                                                                                                                                                                                                                                                                                                                                                                  Explanation\\nWhy the edits made under my username Hardcore Metallica Fan were reverted? They weren't vandalisms, just closure on some GAs after I voted at New York Dolls FAC. And please don't remove the template from the talk page since I'm retired now.89.205.38.27\n",
       "1                                                                                                                                                                                                                                                                                                                                                                                                                                                                                                                                           D'aww! He matches this background colour I'm seemingly stuck with. Thanks.  (talk) 21:51, January 11, 2016 (UTC)\n",
       "2                                                                                                                                                                                                                                                                                                                                                                                                                  Hey man, I'm really not trying to edit war. It's just that this guy is constantly removing relevant information and talking to me through edits instead of my talk page. He seems to care more about the formatting than the actual info.\n",
       "3         \"\\nMore\\nI can't make any real suggestions on improvement - I wondered if the section statistics should be later on, or a subsection of \"\"types of accidents\"\"  -I think the references may need tidying so that they are all in the exact same format ie date format etc. I can do that later on, if no-one else does first - if you have any preferences for formatting style on references or want to do it yourself please let me know.\\n\\nThere appears to be a backlog on articles for review so I guess there may be a delay until a reviewer turns up. It's listed in the relevant form eg Wikipedia:Good_article_nominations#Transport  \"\n",
       "4                                                                                                                                                                                                                                                                                                                                                                                                                                                                                                                                                                                        You, sir, are my hero. Any chance you remember what page that's on?\n",
       "                                                                                                                                                                                                                                                                                                                                 ...                                                                                                                                                                                                                                                                                                                        \n",
       "159566                                                                                                                                                                                                                                                                                                                                             \":::::And for the second time of asking, when your view completely contradicts the coverage in reliable sources, why should anyone care what you feel? You can't even give a consistent argument - is the opening only supposed to mention significant aspects, or the \"\"most significant\"\" ones?   \\n\\n\"\n",
       "159567                                                                                                                                                                                                                                                                                                                                                                                                                                                                                                                                                 You should be ashamed of yourself \\n\\nThat is a horrible thing you put on my talk page.  128.61.19.93\n",
       "159568                                                                                                                                                                                                                                                                                                                                                                                                                                                                                                                                                                   Spitzer \\n\\nUmm, theres no actual article for prostitution ring.  - Crunch Captain.\n",
       "159569                                                                                                                                                                                                                                                                                                                                                                                                                                                                                                                                  And it looks like it was actually you who put on the speedy to have the first version deleted now that I look at it.\n",
       "159570                                                                                                                                                                                                                                                                                                                                                                                                                                                        \"\\nAnd ... I really don't think you understand.  I came here and my idea was bad right away.  What kind of community goes \"\"you have bad ideas\"\" go away, instead of helping rewrite them.   \"\n",
       "Name: comment_text, Length: 159571, dtype: object"
      ]
     },
     "execution_count": 12,
     "metadata": {},
     "output_type": "execute_result"
    }
   ],
   "source": [
    "X = train_data['comment_text'] # comments\n",
    "y = train_data[train_data.columns[2:]].values #Features\n",
    "X"
   ]
  },
  {
   "cell_type": "code",
   "execution_count": 13,
   "id": "71b4d73c",
   "metadata": {},
   "outputs": [
    {
     "data": {
      "text/plain": [
       "array([[0, 0, 0, 0, 0, 0],\n",
       "       [0, 0, 0, 0, 0, 0],\n",
       "       [0, 0, 0, 0, 0, 0],\n",
       "       ...,\n",
       "       [0, 0, 0, 0, 0, 0],\n",
       "       [0, 0, 0, 0, 0, 0],\n",
       "       [0, 0, 0, 0, 0, 0]])"
      ]
     },
     "execution_count": 13,
     "metadata": {},
     "output_type": "execute_result"
    }
   ],
   "source": [
    "y #numpy arrays to be passed onto the model for training"
   ]
  },
  {
   "cell_type": "code",
   "execution_count": 14,
   "id": "f5fb91c2",
   "metadata": {},
   "outputs": [],
   "source": [
    "# Specifying number of words for vectorization\n",
    "MAX_FEATURES = 200000"
   ]
  },
  {
   "cell_type": "code",
   "execution_count": 15,
   "id": "67d16691",
   "metadata": {},
   "outputs": [
    {
     "name": "stderr",
     "output_type": "stream",
     "text": [
      "2023-03-15 12:41:08.362980: I tensorflow/core/platform/cpu_feature_guard.cc:151] This TensorFlow binary is optimized with oneAPI Deep Neural Network Library (oneDNN) to use the following CPU instructions in performance-critical operations:  AVX2 FMA\n",
      "To enable them in other operations, rebuild TensorFlow with the appropriate compiler flags.\n",
      "2023-03-15 12:41:08.530602: I tensorflow/stream_executor/cuda/cuda_gpu_executor.cc:936] successful NUMA node read from SysFS had negative value (-1), but there must be at least one NUMA node, so returning NUMA node zero\n",
      "2023-03-15 12:41:08.530850: I tensorflow/stream_executor/cuda/cuda_gpu_executor.cc:936] successful NUMA node read from SysFS had negative value (-1), but there must be at least one NUMA node, so returning NUMA node zero\n",
      "2023-03-15 12:41:08.531043: I tensorflow/stream_executor/cuda/cuda_gpu_executor.cc:936] successful NUMA node read from SysFS had negative value (-1), but there must be at least one NUMA node, so returning NUMA node zero\n",
      "2023-03-15 12:41:08.531191: I tensorflow/stream_executor/cuda/cuda_gpu_executor.cc:936] successful NUMA node read from SysFS had negative value (-1), but there must be at least one NUMA node, so returning NUMA node zero\n",
      "2023-03-15 12:41:08.531333: I tensorflow/stream_executor/cuda/cuda_gpu_executor.cc:936] successful NUMA node read from SysFS had negative value (-1), but there must be at least one NUMA node, so returning NUMA node zero\n",
      "2023-03-15 12:41:08.531474: I tensorflow/stream_executor/cuda/cuda_gpu_executor.cc:936] successful NUMA node read from SysFS had negative value (-1), but there must be at least one NUMA node, so returning NUMA node zero\n",
      "2023-03-15 12:41:09.234854: I tensorflow/stream_executor/cuda/cuda_gpu_executor.cc:936] successful NUMA node read from SysFS had negative value (-1), but there must be at least one NUMA node, so returning NUMA node zero\n",
      "2023-03-15 12:41:09.235095: I tensorflow/stream_executor/cuda/cuda_gpu_executor.cc:936] successful NUMA node read from SysFS had negative value (-1), but there must be at least one NUMA node, so returning NUMA node zero\n",
      "2023-03-15 12:41:09.235272: I tensorflow/stream_executor/cuda/cuda_gpu_executor.cc:936] successful NUMA node read from SysFS had negative value (-1), but there must be at least one NUMA node, so returning NUMA node zero\n",
      "2023-03-15 12:41:09.235417: I tensorflow/stream_executor/cuda/cuda_gpu_executor.cc:936] successful NUMA node read from SysFS had negative value (-1), but there must be at least one NUMA node, so returning NUMA node zero\n",
      "2023-03-15 12:41:09.235557: I tensorflow/stream_executor/cuda/cuda_gpu_executor.cc:936] successful NUMA node read from SysFS had negative value (-1), but there must be at least one NUMA node, so returning NUMA node zero\n",
      "2023-03-15 12:41:09.235694: I tensorflow/core/common_runtime/gpu/gpu_device.cc:1525] Created device /job:localhost/replica:0/task:0/device:GPU:0 with 8278 MB memory:  -> device: 0, name: NVIDIA GeForce RTX 2080 Ti, pci bus id: 0000:01:00.0, compute capability: 7.5\n",
      "2023-03-15 12:41:09.236244: I tensorflow/stream_executor/cuda/cuda_gpu_executor.cc:936] successful NUMA node read from SysFS had negative value (-1), but there must be at least one NUMA node, so returning NUMA node zero\n",
      "2023-03-15 12:41:09.236372: I tensorflow/core/common_runtime/gpu/gpu_device.cc:1525] Created device /job:localhost/replica:0/task:0/device:GPU:1 with 23658 MB memory:  -> device: 1, name: Quadro P6000, pci bus id: 0000:02:00.0, compute capability: 6.1\n"
     ]
    }
   ],
   "source": [
    "vectorize = TextVectorization(max_tokens = MAX_FEATURES, output_mode = 'int', output_sequence_length = 2000)\n",
    "\n",
    "#inputs(total number of words, output_type, max input length)"
   ]
  },
  {
   "cell_type": "code",
   "execution_count": 16,
   "id": "126f2157",
   "metadata": {},
   "outputs": [
    {
     "data": {
      "text/plain": [
       "pandas.core.series.Series"
      ]
     },
     "execution_count": 16,
     "metadata": {},
     "output_type": "execute_result"
    }
   ],
   "source": [
    "type(X)"
   ]
  },
  {
   "cell_type": "code",
   "execution_count": 17,
   "id": "00aae7b8",
   "metadata": {},
   "outputs": [],
   "source": [
    "vectorize.adapt(X.values) # passing the comments as numpy array to the model using X.values"
   ]
  },
  {
   "cell_type": "code",
   "execution_count": 18,
   "id": "f620577c",
   "metadata": {},
   "outputs": [
    {
     "name": "stdout",
     "output_type": "stream",
     "text": [
      "['', '[UNK]', 'the', 'to', 'of', 'and', 'a', 'you', 'i', 'is', 'that', 'in', 'it', 'for', 'this', 'not', 'on', 'be', 'as', 'have', 'are', 'your', 'with', 'if', 'article', 'was', 'or', 'but', 'page', 'my', 'an', 'from', 'by', 'do', 'at', 'about', 'me', 'so', 'wikipedia', 'can', 'what', 'there', 'all', 'has', 'will', 'talk', 'please', 'would', 'its', 'no']\n"
     ]
    }
   ],
   "source": [
    "# lets check the first 50 generated vocabs from the Text vectorization\n",
    "print(vectorize.get_vocabulary()[:50])"
   ]
  },
  {
   "cell_type": "code",
   "execution_count": 19,
   "id": "db60df83",
   "metadata": {},
   "outputs": [
    {
     "data": {
      "text/plain": [
       "<tf.Tensor: shape=(5,), dtype=int64, numpy=array([520,  40,  20,   7, 273])>"
      ]
     },
     "execution_count": 19,
     "metadata": {},
     "output_type": "execute_result"
    }
   ],
   "source": [
    "# basic data_test to check the location in the vector\n",
    "vectorize(\"Nice, what are you doing?\")[:5]\n",
    "\n",
    "#check the 20th word in the upper section \"are\", the following is stored in the Tensor dsiplayed below \n",
    "#\"520,40, 20, 7, 273\""
   ]
  },
  {
   "cell_type": "markdown",
   "id": "1f890452",
   "metadata": {},
   "source": [
    "### Creating the data for training"
   ]
  },
  {
   "cell_type": "code",
   "execution_count": 20,
   "id": "e8bd3365",
   "metadata": {},
   "outputs": [
    {
     "name": "stderr",
     "output_type": "stream",
     "text": [
      "2023-03-15 12:41:21.898030: W tensorflow/core/framework/cpu_allocator_impl.cc:82] Allocation of 2553136000 exceeds 10% of free system memory.\n"
     ]
    },
    {
     "data": {
      "text/plain": [
       "<tf.Tensor: shape=(159571, 2000), dtype=int64, numpy=\n",
       "array([[  645,    76,     2, ...,     0,     0,     0],\n",
       "       [    1,    54,  2489, ...,     0,     0,     0],\n",
       "       [  425,   441,    70, ...,     0,     0,     0],\n",
       "       ...,\n",
       "       [32445,  7392,   383, ...,     0,     0,     0],\n",
       "       [    5,    12,   534, ...,     0,     0,     0],\n",
       "       [    5,     8,   130, ...,     0,     0,     0]])>"
      ]
     },
     "execution_count": 20,
     "metadata": {},
     "output_type": "execute_result"
    }
   ],
   "source": [
    "# Now vrctorizing the entire X values\n",
    "Vector_text = vectorize(X.values)\n",
    "Vector_text"
   ]
  },
  {
   "cell_type": "code",
   "execution_count": 21,
   "id": "4ffb136e",
   "metadata": {
    "scrolled": true
   },
   "outputs": [
    {
     "data": {
      "text/plain": [
       "<PrefetchDataset element_spec=(TensorSpec(shape=(None, 2000), dtype=tf.int64, name=None), TensorSpec(shape=(None, 6), dtype=tf.int64, name=None))>"
      ]
     },
     "execution_count": 21,
     "metadata": {},
     "output_type": "execute_result"
    }
   ],
   "source": [
    "#Pre-shuffle the data and setting the batch size for training\n",
    "\n",
    "#MCSHBAP - map, cache, shuffle, batch, prefetch from tensor_slices, list_files -> instantiating the data pipeline\n",
    "data = tf.data.Dataset.from_tensor_slices((Vector_text, y))\n",
    "data = data.cache()\n",
    "data = data.shuffle(160000)\n",
    "data = data.batch(24)\n",
    "data = data.prefetch(8) # helps prevent bottlenecks\n",
    "data"
   ]
  },
  {
   "cell_type": "code",
   "execution_count": 22,
   "id": "b05febc3",
   "metadata": {},
   "outputs": [
    {
     "name": "stderr",
     "output_type": "stream",
     "text": [
      "2023-03-15 12:41:22.286530: W tensorflow/core/framework/cpu_allocator_impl.cc:82] Allocation of 2553136000 exceeds 10% of free system memory.\n"
     ]
    },
    {
     "data": {
      "text/plain": [
       "(array([[ 204,    8,   65, ...,    0,    0,    0],\n",
       "        [ 248,  111,  255, ...,    0,    0,    0],\n",
       "        [ 583,  125,   88, ...,    0,    0,    0],\n",
       "        ...,\n",
       "        [ 797, 8072, 4013, ...,    0,    0,    0],\n",
       "        [  48,  548,    3, ...,    0,    0,    0],\n",
       "        [ 827, 1995, 3254, ...,    0,    0,    0]]),\n",
       " array([[0, 0, 0, 0, 0, 0],\n",
       "        [0, 0, 0, 0, 0, 0],\n",
       "        [0, 0, 0, 0, 0, 0],\n",
       "        [0, 0, 0, 0, 0, 0],\n",
       "        [0, 0, 0, 0, 0, 0],\n",
       "        [0, 0, 0, 0, 0, 0],\n",
       "        [0, 0, 0, 0, 0, 0],\n",
       "        [0, 0, 0, 0, 0, 0],\n",
       "        [0, 0, 0, 0, 0, 0],\n",
       "        [0, 0, 0, 0, 0, 0],\n",
       "        [0, 0, 0, 0, 0, 0],\n",
       "        [1, 0, 0, 0, 0, 0],\n",
       "        [0, 0, 0, 0, 0, 0],\n",
       "        [0, 0, 0, 0, 0, 0],\n",
       "        [0, 0, 0, 0, 0, 0],\n",
       "        [0, 0, 0, 0, 0, 0],\n",
       "        [0, 0, 0, 0, 0, 0],\n",
       "        [0, 0, 0, 0, 0, 0],\n",
       "        [0, 0, 0, 0, 0, 0],\n",
       "        [0, 0, 0, 0, 0, 0],\n",
       "        [0, 0, 0, 0, 0, 0],\n",
       "        [0, 0, 0, 0, 0, 0],\n",
       "        [0, 0, 0, 0, 0, 0],\n",
       "        [0, 0, 0, 0, 0, 0]]))"
      ]
     },
     "execution_count": 22,
     "metadata": {},
     "output_type": "execute_result"
    }
   ],
   "source": [
    "data.as_numpy_iterator().next()\n",
    "# first array is text in vectorized format.\n",
    "# 2nd array are the labels "
   ]
  },
  {
   "cell_type": "code",
   "execution_count": 23,
   "id": "51e48cfb",
   "metadata": {},
   "outputs": [
    {
     "name": "stderr",
     "output_type": "stream",
     "text": [
      "2023-03-15 12:41:23.038540: W tensorflow/core/framework/cpu_allocator_impl.cc:82] Allocation of 2553136000 exceeds 10% of free system memory.\n"
     ]
    }
   ],
   "source": [
    "X_batch, Y_batch = data.as_numpy_iterator().next()"
   ]
  },
  {
   "cell_type": "markdown",
   "id": "5e97a7b4",
   "metadata": {},
   "source": [
    "### Split data into train, test, split"
   ]
  },
  {
   "cell_type": "code",
   "execution_count": 24,
   "id": "9229d8df",
   "metadata": {},
   "outputs": [
    {
     "data": {
      "text/plain": [
       "4654"
      ]
     },
     "execution_count": 24,
     "metadata": {},
     "output_type": "execute_result"
    }
   ],
   "source": [
    "int(len(data)*.7) # partitioning"
   ]
  },
  {
   "cell_type": "code",
   "execution_count": 25,
   "id": "0c7c006d",
   "metadata": {},
   "outputs": [
    {
     "name": "stdout",
     "output_type": "stream",
     "text": [
      "(24, 2000) (24, 6)\n",
      "The training sample is 4654, Valid Samples is 1329, Test Set is 664\n"
     ]
    }
   ],
   "source": [
    "print(X_batch.shape, Y_batch.shape)\n",
    "\n",
    "# 70%\n",
    "train = data.take(int(len(data)* .7))\n",
    "valid = data.skip(int(len(data)* .7)).take(int(len(data)* .2))\n",
    "test = data.skip(int(len(data)* .7)).skip(int(len(data)* .2)).take(int(len(data)* .1))\n",
    "\n",
    "print(f'The training sample is {len(train)}, Valid Samples is {len(valid)}, Test Set is {len(test)}')"
   ]
  },
  {
   "cell_type": "code",
   "execution_count": 26,
   "id": "736d2802",
   "metadata": {},
   "outputs": [
    {
     "name": "stderr",
     "output_type": "stream",
     "text": [
      "2023-03-15 12:41:23.692591: W tensorflow/core/framework/cpu_allocator_impl.cc:82] Allocation of 2553136000 exceeds 10% of free system memory.\n"
     ]
    }
   ],
   "source": [
    "train_generator = train.as_numpy_iterator()\n"
   ]
  },
  {
   "cell_type": "code",
   "execution_count": 27,
   "id": "59f38cc0",
   "metadata": {},
   "outputs": [
    {
     "data": {
      "text/plain": [
       "(array([[   94,    13,  2246, ...,     0,     0,     0],\n",
       "        [43789, 63770,     9, ...,     0,     0,     0],\n",
       "        [ 2949,  2473,   172, ...,     0,     0,     0],\n",
       "        ...,\n",
       "        [20991,     4,   346, ...,     0,     0,     0],\n",
       "        [   12,   524,  1809, ...,     0,     0,     0],\n",
       "        [    7,    86,    69, ...,     0,     0,     0]]),\n",
       " array([[0, 0, 0, 0, 0, 0],\n",
       "        [0, 0, 0, 0, 0, 0],\n",
       "        [0, 0, 0, 0, 0, 0],\n",
       "        [0, 0, 0, 0, 0, 0],\n",
       "        [0, 0, 0, 0, 0, 0],\n",
       "        [0, 0, 0, 0, 0, 0],\n",
       "        [0, 0, 0, 0, 0, 0],\n",
       "        [0, 0, 0, 0, 0, 0],\n",
       "        [0, 0, 0, 0, 0, 0],\n",
       "        [0, 0, 0, 0, 0, 0],\n",
       "        [0, 0, 0, 0, 0, 0],\n",
       "        [0, 0, 0, 0, 0, 0],\n",
       "        [0, 0, 0, 0, 0, 0],\n",
       "        [0, 0, 0, 0, 0, 0],\n",
       "        [0, 0, 0, 0, 0, 0],\n",
       "        [0, 0, 0, 0, 0, 0],\n",
       "        [0, 0, 0, 0, 0, 0],\n",
       "        [0, 0, 0, 0, 0, 0],\n",
       "        [0, 0, 0, 0, 0, 0],\n",
       "        [0, 0, 0, 0, 0, 0],\n",
       "        [0, 0, 0, 0, 0, 0],\n",
       "        [0, 0, 0, 0, 0, 0],\n",
       "        [0, 0, 0, 0, 0, 0],\n",
       "        [1, 0, 1, 0, 1, 0]]))"
      ]
     },
     "execution_count": 27,
     "metadata": {},
     "output_type": "execute_result"
    }
   ],
   "source": [
    "train_generator.next() # use this to see how the model learns batchwiswe (run again and again)"
   ]
  },
  {
   "cell_type": "markdown",
   "id": "9db6a2db",
   "metadata": {},
   "source": [
    "##  HOW IT WORKS:\n",
    "Go through a batch -> forward pass -> backward pass -> update the gradients -> next batch [.next()]"
   ]
  },
  {
   "cell_type": "markdown",
   "id": "c3b88b1f",
   "metadata": {},
   "source": [
    "## Build Network"
   ]
  },
  {
   "cell_type": "code",
   "execution_count": 28,
   "id": "2944f97c",
   "metadata": {},
   "outputs": [],
   "source": [
    "from tensorflow.keras.models import Sequential\n",
    "from tensorflow.keras.layers import LSTM, Dropout, Bidirectional, Dense, Embedding"
   ]
  },
  {
   "cell_type": "code",
   "execution_count": 29,
   "id": "c19b4f60",
   "metadata": {},
   "outputs": [],
   "source": [
    "\n",
    "def predictor2():\n",
    "    model = Sequential()\n",
    "    model.add(Embedding(MAX_FEATURES+1, 32, input_length = 2000))\n",
    "    model.add(Bidirectional(LSTM(32, activation = 'tanh')))\n",
    "    \n",
    "    model.add(Dense(64, activation = 'elu'))\n",
    "    model.add(Dropout(0.3))\n",
    "    model.add(Dense(128, activation = 'elu'))\n",
    "    model.add(Dropout(0.3))\n",
    "    model.add(Dense(256, activation = 'elu'))\n",
    "    model.add(Dropout(0.3))\n",
    "    model.add(Dense(128, activation = 'elu'))\n",
    "    model.add(Dropout(0.3))\n",
    "    \n",
    "    #final_layer\n",
    "    model.add(Dense(6, activation = 'sigmoid'))\n",
    "    model.compile(loss= 'BinaryCrossentropy', optimizer= 'Adam',  metrics = ['acc'])\n",
    "    \n",
    "    return model"
   ]
  },
  {
   "cell_type": "code",
   "execution_count": 30,
   "id": "9c7ec64e",
   "metadata": {},
   "outputs": [
    {
     "name": "stdout",
     "output_type": "stream",
     "text": [
      "Model: \"sequential\"\n",
      "_________________________________________________________________\n",
      " Layer (type)                Output Shape              Param #   \n",
      "=================================================================\n",
      " embedding (Embedding)       (None, 2000, 32)          6400032   \n",
      "                                                                 \n",
      " bidirectional (Bidirectiona  (None, 64)               16640     \n",
      " l)                                                              \n",
      "                                                                 \n",
      " dense (Dense)               (None, 64)                4160      \n",
      "                                                                 \n",
      " dropout (Dropout)           (None, 64)                0         \n",
      "                                                                 \n",
      " dense_1 (Dense)             (None, 128)               8320      \n",
      "                                                                 \n",
      " dropout_1 (Dropout)         (None, 128)               0         \n",
      "                                                                 \n",
      " dense_2 (Dense)             (None, 256)               33024     \n",
      "                                                                 \n",
      " dropout_2 (Dropout)         (None, 256)               0         \n",
      "                                                                 \n",
      " dense_3 (Dense)             (None, 128)               32896     \n",
      "                                                                 \n",
      " dropout_3 (Dropout)         (None, 128)               0         \n",
      "                                                                 \n",
      " dense_4 (Dense)             (None, 6)                 774       \n",
      "                                                                 \n",
      "=================================================================\n",
      "Total params: 6,495,846\n",
      "Trainable params: 6,495,846\n",
      "Non-trainable params: 0\n",
      "_________________________________________________________________\n"
     ]
    }
   ],
   "source": [
    "model2 = predictor2()\n",
    "model2.summary()"
   ]
  },
  {
   "cell_type": "code",
   "execution_count": 31,
   "id": "1612590a",
   "metadata": {},
   "outputs": [
    {
     "name": "stdout",
     "output_type": "stream",
     "text": [
      "WARNING:tensorflow:Collective ops is not configured at program startup. Some performance features may not be enabled.\n",
      "INFO:tensorflow:Single-worker MultiWorkerMirroredStrategy with local_devices = ('/device:GPU:0', '/device:GPU:1'), communication = CommunicationImplementation.AUTO\n"
     ]
    }
   ],
   "source": [
    "#mirrored_strategy = tf.distribute.MirroredStrategy(devices=[\"/gpu:0\", \"/gpu:1\"])\n",
    "#mirrored_strategy = tf.distribute.MirroredStrategy()\n",
    "strategy = tf.distribute.MultiWorkerMirroredStrategy()\n"
   ]
  },
  {
   "cell_type": "code",
   "execution_count": 32,
   "id": "e89242ec",
   "metadata": {},
   "outputs": [
    {
     "name": "stdout",
     "output_type": "stream",
     "text": [
      "Object `model.fit` not found.\n"
     ]
    }
   ],
   "source": [
    "model.fit??"
   ]
  },
  {
   "cell_type": "code",
   "execution_count": 33,
   "id": "a230d8b8",
   "metadata": {
    "scrolled": false
   },
   "outputs": [
    {
     "name": "stderr",
     "output_type": "stream",
     "text": [
      "2023-03-15 12:41:24.780323: W tensorflow/core/framework/cpu_allocator_impl.cc:82] Allocation of 2553136000 exceeds 10% of free system memory.\n"
     ]
    },
    {
     "name": "stdout",
     "output_type": "stream",
     "text": [
      "Epoch 1/20\n"
     ]
    },
    {
     "name": "stderr",
     "output_type": "stream",
     "text": [
      "2023-03-15 12:41:28.260678: I tensorflow/stream_executor/cuda/cuda_dnn.cc:368] Loaded cuDNN version 8600\n"
     ]
    },
    {
     "name": "stdout",
     "output_type": "stream",
     "text": [
      "4654/4654 [==============================] - 366s 78ms/step - loss: 0.0687 - acc: 0.9201 - val_loss: 0.0481 - val_acc: 0.9945\n",
      "Epoch 2/20\n",
      "4654/4654 [==============================] - 361s 78ms/step - loss: 0.0498 - acc: 0.9508 - val_loss: 0.0431 - val_acc: 0.9940\n",
      "Epoch 3/20\n",
      "4654/4654 [==============================] - 361s 78ms/step - loss: 0.0439 - acc: 0.9212 - val_loss: 0.0371 - val_acc: 0.9947\n",
      "Epoch 4/20\n",
      "4654/4654 [==============================] - 361s 78ms/step - loss: 0.0406 - acc: 0.9161 - val_loss: 0.0330 - val_acc: 0.9844\n",
      "Epoch 5/20\n",
      "4654/4654 [==============================] - 361s 78ms/step - loss: 0.0362 - acc: 0.8869 - val_loss: 0.0316 - val_acc: 0.9939\n",
      "Epoch 6/20\n",
      "4654/4654 [==============================] - 361s 78ms/step - loss: 0.0335 - acc: 0.7875 - val_loss: 0.0326 - val_acc: 0.7988\n",
      "Epoch 7/20\n",
      "4654/4654 [==============================] - 361s 78ms/step - loss: 0.0311 - acc: 0.7522 - val_loss: 0.0270 - val_acc: 0.9935\n",
      "Epoch 8/20\n",
      "4654/4654 [==============================] - 361s 78ms/step - loss: 0.0283 - acc: 0.7294 - val_loss: 0.0244 - val_acc: 0.9875\n",
      "Epoch 9/20\n",
      "4654/4654 [==============================] - 361s 78ms/step - loss: 0.0259 - acc: 0.6924 - val_loss: 0.0208 - val_acc: 0.9902\n",
      "Epoch 10/20\n",
      "4654/4654 [==============================] - 361s 78ms/step - loss: 0.0241 - acc: 0.6966 - val_loss: 0.0205 - val_acc: 0.9930\n",
      "Epoch 11/20\n",
      "4654/4654 [==============================] - 361s 78ms/step - loss: 0.0215 - acc: 0.5878 - val_loss: 0.0164 - val_acc: 0.9667\n",
      "Epoch 12/20\n",
      "4654/4654 [==============================] - 361s 78ms/step - loss: 0.0200 - acc: 0.6295 - val_loss: 0.0147 - val_acc: 0.9893\n",
      "Epoch 13/20\n",
      "4654/4654 [==============================] - 361s 78ms/step - loss: 0.0183 - acc: 0.6801 - val_loss: 0.0145 - val_acc: 0.9704\n",
      "Epoch 14/20\n",
      "4654/4654 [==============================] - 361s 78ms/step - loss: 0.0171 - acc: 0.7356 - val_loss: 0.0117 - val_acc: 0.9853\n",
      "Epoch 15/20\n",
      "4654/4654 [==============================] - 361s 78ms/step - loss: 0.0155 - acc: 0.6359 - val_loss: 0.0127 - val_acc: 0.9938\n",
      "Epoch 16/20\n",
      "4654/4654 [==============================] - 361s 78ms/step - loss: 0.0148 - acc: 0.6045 - val_loss: 0.0110 - val_acc: 0.8973\n",
      "Epoch 17/20\n",
      "4654/4654 [==============================] - 361s 78ms/step - loss: 0.0139 - acc: 0.5795 - val_loss: 0.0095 - val_acc: 0.9756\n",
      "Epoch 18/20\n",
      "4654/4654 [==============================] - 361s 78ms/step - loss: 0.0127 - acc: 0.5214 - val_loss: 0.0089 - val_acc: 0.9034\n",
      "Epoch 19/20\n",
      "4654/4654 [==============================] - 361s 78ms/step - loss: 0.0124 - acc: 0.4748 - val_loss: 0.0082 - val_acc: 0.9752\n",
      "Epoch 20/20\n",
      "4654/4654 [==============================] - 361s 78ms/step - loss: 0.0115 - acc: 0.5711 - val_loss: 0.0080 - val_acc: 0.9893\n"
     ]
    }
   ],
   "source": [
    "from tensorflow import keras\n",
    "checkpoint = keras.callbacks.ModelCheckpoint('DropOut_ToxicPredict.h5', save_best_only = True)\n",
    "history  = model2.fit(train, epochs = 20, validation_data= valid, verbose =1, callbacks = [checkpoint])"
   ]
  },
  {
   "cell_type": "code",
   "execution_count": 34,
   "id": "c43e8c12",
   "metadata": {},
   "outputs": [
    {
     "data": {
      "text/plain": [
       "'\\nimport pickle\\nwith open(\\'./first_history\\', \\'wb\\') as file_pi:\\n    pickle.dump(history.history, file_pi)\\n\\nwith open(\\'./first_history\\', \"rb\") as file_pi:\\n    history = pickle.load(file_pi)\\n'"
      ]
     },
     "execution_count": 34,
     "metadata": {},
     "output_type": "execute_result"
    }
   ],
   "source": [
    "\"\"\"\n",
    "import pickle\n",
    "with open('./first_history', 'wb') as file_pi:\n",
    "    pickle.dump(history.history, file_pi)\n",
    "\n",
    "with open('./first_history', \"rb\") as file_pi:\n",
    "    history = pickle.load(file_pi)\n",
    "\"\"\""
   ]
  },
  {
   "cell_type": "code",
   "execution_count": 35,
   "id": "80d686b0",
   "metadata": {},
   "outputs": [
    {
     "data": {
      "text/plain": [
       "<Figure size 800x500 with 0 Axes>"
      ]
     },
     "metadata": {},
     "output_type": "display_data"
    },
    {
     "data": {
      "image/png": "[encoded data removed]",
      "text/plain": [
       "<Figure size 640x480 with 1 Axes>"
      ]
     },
     "metadata": {},
     "output_type": "display_data"
    }
   ],
   "source": [
    "import matplotlib.pyplot as plt\n",
    "plt.figure(figsize=(8, 5))\n",
    "pd.DataFrame(history.history).plot()\n",
    "plt.show()"
   ]
  },
  {
   "cell_type": "code",
   "execution_count": 36,
   "id": "ad668ce4",
   "metadata": {},
   "outputs": [
    {
     "ename": "NameError",
     "evalue": "name 'model' is not defined",
     "output_type": "error",
     "traceback": [
      "\u001b[0;31m---------------------------------------------------------------------------\u001b[0m",
      "\u001b[0;31mNameError\u001b[0m                                 Traceback (most recent call last)",
      "Cell \u001b[0;32mIn[36], line 1\u001b[0m\n\u001b[0;32m----> 1\u001b[0m \u001b[43mmodel\u001b[49m\u001b[38;5;241m.\u001b[39msave(\u001b[38;5;124m'\u001b[39m\u001b[38;5;124mDropOut_ToxicPredict.h5\u001b[39m\u001b[38;5;124m'\u001b[39m)\n",
      "\u001b[0;31mNameError\u001b[0m: name 'model' is not defined"
     ]
    }
   ],
   "source": [
    "model.save('DropOut_ToxicPredict.h5')"
   ]
  },
  {
   "cell_type": "markdown",
   "id": "3f130517",
   "metadata": {},
   "source": [
    "### predictions"
   ]
  },
  {
   "cell_type": "code",
   "execution_count": 37,
   "id": "9e22f56f",
   "metadata": {},
   "outputs": [
    {
     "name": "stdout",
     "output_type": "stream",
     "text": [
      "tf.Tensor([ 20   7 563 ...   0   0   0], shape=(2000,), dtype=int64)\n"
     ]
    }
   ],
   "source": [
    "input_text = vectorize(\"Are you Stupid\") # Basic check.\n",
    "print(input_text)"
   ]
  },
  {
   "cell_type": "code",
   "execution_count": 39,
   "id": "6259934b",
   "metadata": {},
   "outputs": [
    {
     "data": {
      "text/plain": [
       "array([[0.96110576, 0.03755979, 0.4893339 , 0.01091688, 0.6752211 ,\n",
       "        0.00626051]], dtype=float32)"
      ]
     },
     "execution_count": 39,
     "metadata": {},
     "output_type": "execute_result"
    }
   ],
   "source": [
    "# model.predict(np.array[input_text])\n",
    "\n",
    "model2.predict(np.expand_dims(input_text,0))"
   ]
  },
  {
   "cell_type": "markdown",
   "id": "c65b829c",
   "metadata": {},
   "source": [
    "### Test on TestSet"
   ]
  },
  {
   "cell_type": "code",
   "execution_count": 40,
   "id": "35d981af",
   "metadata": {},
   "outputs": [],
   "source": [
    "batch_x, batch_y = test.as_numpy_iterator().next()"
   ]
  },
  {
   "cell_type": "code",
   "execution_count": 42,
   "id": "044d1ba5",
   "metadata": {},
   "outputs": [
    {
     "data": {
      "text/plain": [
       "array([[1, 0, 0, 0, 0, 0],\n",
       "       [1, 0, 0, 0, 0, 0],\n",
       "       [0, 0, 0, 0, 0, 0],\n",
       "       [0, 0, 0, 0, 0, 0],\n",
       "       [0, 0, 0, 0, 0, 0],\n",
       "       [0, 0, 0, 0, 0, 0],\n",
       "       [0, 0, 0, 0, 0, 0],\n",
       "       [0, 0, 0, 0, 0, 0],\n",
       "       [0, 0, 0, 0, 0, 0],\n",
       "       [0, 0, 0, 0, 0, 0],\n",
       "       [0, 0, 0, 0, 0, 0],\n",
       "       [0, 0, 0, 0, 0, 0],\n",
       "       [0, 0, 0, 0, 0, 0],\n",
       "       [0, 0, 0, 0, 0, 0],\n",
       "       [0, 0, 0, 0, 0, 0],\n",
       "       [0, 0, 0, 0, 0, 0],\n",
       "       [0, 0, 0, 0, 0, 0],\n",
       "       [0, 0, 0, 0, 0, 0],\n",
       "       [0, 0, 0, 0, 0, 0],\n",
       "       [0, 0, 0, 0, 0, 0],\n",
       "       [0, 0, 0, 0, 0, 0],\n",
       "       [0, 0, 0, 0, 0, 0],\n",
       "       [0, 0, 0, 0, 0, 0],\n",
       "       [0, 0, 0, 0, 0, 0]])"
      ]
     },
     "execution_count": 42,
     "metadata": {},
     "output_type": "execute_result"
    }
   ],
   "source": [
    "(model2.predict(batch_x) > 0.5).astype(int)"
   ]
  },
  {
   "cell_type": "markdown",
   "id": "65402123",
   "metadata": {},
   "source": [
    "### Model Evaluation"
   ]
  },
  {
   "cell_type": "code",
   "execution_count": 43,
   "id": "4321a62e",
   "metadata": {},
   "outputs": [],
   "source": [
    "from tensorflow.keras.metrics import Precision, Recall, CategoricalAccuracy\n",
    "\n",
    "pre = Precision()\n",
    "rec = Recall()\n",
    "acc = CategoricalAccuracy()"
   ]
  },
  {
   "cell_type": "code",
   "execution_count": 44,
   "id": "c2752a5f",
   "metadata": {},
   "outputs": [],
   "source": [
    "for batch in test.as_numpy_iterator():\n",
    "    x_true, y_true = batch\n",
    "    yhat = model2.predict(x_true)\n",
    "    \n",
    "    y_true = y_true.flatten()\n",
    "    yhat = yhat.flatten()\n",
    "    \n",
    "    \n",
    "    pre.update_state(y_true, yhat)\n",
    "    rec.update_state(y_true, yhat)\n",
    "    acc.update_state(y_true, yhat)"
   ]
  },
  {
   "cell_type": "code",
   "execution_count": 45,
   "id": "31f3d8a9",
   "metadata": {},
   "outputs": [
    {
     "name": "stdout",
     "output_type": "stream",
     "text": [
      "Precision  :0.9530141949653625\n",
      "Recall  :0.9623993039131165\n",
      "Accuracy  :0.4503012001514435\n"
     ]
    }
   ],
   "source": [
    "print(f'Precision  :{pre.result().numpy()}')\n",
    "print(f'Recall  :{rec.result().numpy()}')\n",
    "print(f'Accuracy  :{acc.result().numpy()}')"
   ]
  },
  {
   "cell_type": "markdown",
   "id": "deefa901",
   "metadata": {},
   "source": [
    "### USER INTERFACE"
   ]
  },
  {
   "cell_type": "code",
   "execution_count": 46,
   "id": "7b9bb2eb",
   "metadata": {},
   "outputs": [
    {
     "name": "stdout",
     "output_type": "stream",
     "text": [
      "Requirement already satisfied: gradio in /home/ndip/miniconda3/envs/neural/lib/python3.8/site-packages (3.21.0)\n",
      "Requirement already satisfied: jinja2 in /home/ndip/miniconda3/envs/neural/lib/python3.8/site-packages (3.1.2)\n",
      "Requirement already satisfied: python-multipart in /home/ndip/miniconda3/envs/neural/lib/python3.8/site-packages (from gradio) (0.0.6)\n",
      "Requirement already satisfied: mdit-py-plugins<=0.3.3 in /home/ndip/miniconda3/envs/neural/lib/python3.8/site-packages (from gradio) (0.3.3)\n",
      "Requirement already satisfied: httpx in /home/ndip/miniconda3/envs/neural/lib/python3.8/site-packages (from gradio) (0.23.3)\n",
      "Requirement already satisfied: markupsafe in /home/ndip/miniconda3/envs/neural/lib/python3.8/site-packages (from gradio) (2.1.2)\n",
      "Requirement already satisfied: fsspec in /home/ndip/miniconda3/envs/neural/lib/python3.8/site-packages (from gradio) (2023.1.0)\n",
      "Requirement already satisfied: pyyaml in /home/ndip/miniconda3/envs/neural/lib/python3.8/site-packages (from gradio) (5.4.1)\n",
      "Requirement already satisfied: matplotlib in /home/ndip/miniconda3/envs/neural/lib/python3.8/site-packages (from gradio) (3.5.0)\n",
      "Requirement already satisfied: pydub in /home/ndip/miniconda3/envs/neural/lib/python3.8/site-packages (from gradio) (0.25.1)\n",
      "Requirement already satisfied: orjson in /home/ndip/miniconda3/envs/neural/lib/python3.8/site-packages (from gradio) (3.8.7)\n",
      "Requirement already satisfied: huggingface-hub>=0.13.0 in /home/ndip/miniconda3/envs/neural/lib/python3.8/site-packages (from gradio) (0.13.2)\n",
      "Requirement already satisfied: uvicorn in /home/ndip/miniconda3/envs/neural/lib/python3.8/site-packages (from gradio) (0.21.0)\n",
      "Requirement already satisfied: typing-extensions in /home/ndip/miniconda3/envs/neural/lib/python3.8/site-packages (from gradio) (4.5.0)\n",
      "Requirement already satisfied: altair>=4.2.0 in /home/ndip/miniconda3/envs/neural/lib/python3.8/site-packages (from gradio) (4.2.2)\n",
      "Requirement already satisfied: markdown-it-py[linkify]>=2.0.0 in /home/ndip/miniconda3/envs/neural/lib/python3.8/site-packages (from gradio) (2.2.0)\n",
      "Requirement already satisfied: aiofiles in /home/ndip/miniconda3/envs/neural/lib/python3.8/site-packages (from gradio) (23.1.0)\n",
      "Requirement already satisfied: ffmpy in /home/ndip/miniconda3/envs/neural/lib/python3.8/site-packages (from gradio) (0.3.0)\n",
      "Requirement already satisfied: numpy in /home/ndip/miniconda3/envs/neural/lib/python3.8/site-packages (from gradio) (1.23.5)\n",
      "Requirement already satisfied: pillow in /home/ndip/miniconda3/envs/neural/lib/python3.8/site-packages (from gradio) (9.4.0)\n",
      "Requirement already satisfied: pandas in /home/ndip/miniconda3/envs/neural/lib/python3.8/site-packages (from gradio) (1.2.0)\n",
      "Requirement already satisfied: requests in /home/ndip/miniconda3/envs/neural/lib/python3.8/site-packages (from gradio) (2.28.2)\n",
      "Requirement already satisfied: websockets>=10.0 in /home/ndip/miniconda3/envs/neural/lib/python3.8/site-packages (from gradio) (10.4)\n",
      "Requirement already satisfied: aiohttp in /home/ndip/miniconda3/envs/neural/lib/python3.8/site-packages (from gradio) (3.8.4)\n",
      "Requirement already satisfied: pydantic in /home/ndip/miniconda3/envs/neural/lib/python3.8/site-packages (from gradio) (1.10.6)\n",
      "Requirement already satisfied: fastapi in /home/ndip/miniconda3/envs/neural/lib/python3.8/site-packages (from gradio) (0.94.1)\n",
      "Requirement already satisfied: toolz in /home/ndip/miniconda3/envs/neural/lib/python3.8/site-packages (from altair>=4.2.0->gradio) (0.12.0)\n",
      "Requirement already satisfied: entrypoints in /home/ndip/miniconda3/envs/neural/lib/python3.8/site-packages (from altair>=4.2.0->gradio) (0.4)\n",
      "Requirement already satisfied: jsonschema>=3.0 in /home/ndip/miniconda3/envs/neural/lib/python3.8/site-packages (from altair>=4.2.0->gradio) (4.17.3)\n",
      "Requirement already satisfied: filelock in /home/ndip/miniconda3/envs/neural/lib/python3.8/site-packages (from huggingface-hub>=0.13.0->gradio) (3.9.1)\n",
      "Requirement already satisfied: tqdm>=4.42.1 in /home/ndip/miniconda3/envs/neural/lib/python3.8/site-packages (from huggingface-hub>=0.13.0->gradio) (4.64.1)\n",
      "Requirement already satisfied: packaging>=20.9 in /home/ndip/miniconda3/envs/neural/lib/python3.8/site-packages (from huggingface-hub>=0.13.0->gradio) (23.0)\n",
      "Requirement already satisfied: mdurl~=0.1 in /home/ndip/miniconda3/envs/neural/lib/python3.8/site-packages (from markdown-it-py[linkify]>=2.0.0->gradio) (0.1.2)\n",
      "Requirement already satisfied: linkify-it-py<3,>=1 in /home/ndip/miniconda3/envs/neural/lib/python3.8/site-packages (from markdown-it-py[linkify]>=2.0.0->gradio) (2.0.0)\n",
      "Requirement already satisfied: pytz>=2017.3 in /home/ndip/miniconda3/envs/neural/lib/python3.8/site-packages (from pandas->gradio) (2022.7.1)\n",
      "Requirement already satisfied: python-dateutil>=2.7.3 in /home/ndip/miniconda3/envs/neural/lib/python3.8/site-packages (from pandas->gradio) (2.8.2)\n",
      "Requirement already satisfied: async-timeout<5.0,>=4.0.0a3 in /home/ndip/miniconda3/envs/neural/lib/python3.8/site-packages (from aiohttp->gradio) (4.0.2)\n",
      "Requirement already satisfied: aiosignal>=1.1.2 in /home/ndip/miniconda3/envs/neural/lib/python3.8/site-packages (from aiohttp->gradio) (1.3.1)\n",
      "Requirement already satisfied: frozenlist>=1.1.1 in /home/ndip/miniconda3/envs/neural/lib/python3.8/site-packages (from aiohttp->gradio) (1.3.3)\n",
      "Requirement already satisfied: charset-normalizer<4.0,>=2.0 in /home/ndip/miniconda3/envs/neural/lib/python3.8/site-packages (from aiohttp->gradio) (3.0.1)\n",
      "Requirement already satisfied: attrs>=17.3.0 in /home/ndip/miniconda3/envs/neural/lib/python3.8/site-packages (from aiohttp->gradio) (22.2.0)\n",
      "Requirement already satisfied: multidict<7.0,>=4.5 in /home/ndip/miniconda3/envs/neural/lib/python3.8/site-packages (from aiohttp->gradio) (6.0.4)\n",
      "Requirement already satisfied: yarl<2.0,>=1.0 in /home/ndip/miniconda3/envs/neural/lib/python3.8/site-packages (from aiohttp->gradio) (1.8.2)\n",
      "Requirement already satisfied: starlette<0.27.0,>=0.26.1 in /home/ndip/miniconda3/envs/neural/lib/python3.8/site-packages (from fastapi->gradio) (0.26.1)\n",
      "Requirement already satisfied: rfc3986[idna2008]<2,>=1.3 in /home/ndip/miniconda3/envs/neural/lib/python3.8/site-packages (from httpx->gradio) (1.5.0)\n",
      "Requirement already satisfied: httpcore<0.17.0,>=0.15.0 in /home/ndip/miniconda3/envs/neural/lib/python3.8/site-packages (from httpx->gradio) (0.16.3)\n",
      "Requirement already satisfied: certifi in /home/ndip/miniconda3/envs/neural/lib/python3.8/site-packages (from httpx->gradio) (2022.12.7)\n",
      "Requirement already satisfied: sniffio in /home/ndip/miniconda3/envs/neural/lib/python3.8/site-packages (from httpx->gradio) (1.3.0)\n",
      "Requirement already satisfied: setuptools-scm>=4 in /home/ndip/miniconda3/envs/neural/lib/python3.8/site-packages (from matplotlib->gradio) (7.1.0)\n",
      "Requirement already satisfied: pyparsing>=2.2.1 in /home/ndip/miniconda3/envs/neural/lib/python3.8/site-packages (from matplotlib->gradio) (3.0.9)\n",
      "Requirement already satisfied: kiwisolver>=1.0.1 in /home/ndip/miniconda3/envs/neural/lib/python3.8/site-packages (from matplotlib->gradio) (1.4.4)\n",
      "Requirement already satisfied: cycler>=0.10 in /home/ndip/miniconda3/envs/neural/lib/python3.8/site-packages (from matplotlib->gradio) (0.11.0)\n",
      "Requirement already satisfied: fonttools>=4.22.0 in /home/ndip/miniconda3/envs/neural/lib/python3.8/site-packages (from matplotlib->gradio) (4.38.0)\n",
      "Requirement already satisfied: idna<4,>=2.5 in /home/ndip/miniconda3/envs/neural/lib/python3.8/site-packages (from requests->gradio) (3.4)\n",
      "Requirement already satisfied: urllib3<1.27,>=1.21.1 in /home/ndip/miniconda3/envs/neural/lib/python3.8/site-packages (from requests->gradio) (1.26.14)\n",
      "Requirement already satisfied: h11>=0.8 in /home/ndip/miniconda3/envs/neural/lib/python3.8/site-packages (from uvicorn->gradio) (0.14.0)\n",
      "Requirement already satisfied: click>=7.0 in /home/ndip/miniconda3/envs/neural/lib/python3.8/site-packages (from uvicorn->gradio) (8.1.3)\n",
      "Requirement already satisfied: anyio<5.0,>=3.0 in /home/ndip/miniconda3/envs/neural/lib/python3.8/site-packages (from httpcore<0.17.0,>=0.15.0->httpx->gradio) (3.6.2)\n",
      "Requirement already satisfied: importlib-resources>=1.4.0 in /home/ndip/miniconda3/envs/neural/lib/python3.8/site-packages (from jsonschema>=3.0->altair>=4.2.0->gradio) (5.12.0)\n",
      "Requirement already satisfied: pkgutil-resolve-name>=1.3.10 in /home/ndip/miniconda3/envs/neural/lib/python3.8/site-packages (from jsonschema>=3.0->altair>=4.2.0->gradio) (1.3.10)\n",
      "Requirement already satisfied: pyrsistent!=0.17.0,!=0.17.1,!=0.17.2,>=0.14.0 in /home/ndip/miniconda3/envs/neural/lib/python3.8/site-packages (from jsonschema>=3.0->altair>=4.2.0->gradio) (0.19.3)\n"
     ]
    },
    {
     "name": "stdout",
     "output_type": "stream",
     "text": [
      "Requirement already satisfied: uc-micro-py in /home/ndip/miniconda3/envs/neural/lib/python3.8/site-packages (from linkify-it-py<3,>=1->markdown-it-py[linkify]>=2.0.0->gradio) (1.0.1)\n",
      "Requirement already satisfied: six>=1.5 in /home/ndip/miniconda3/envs/neural/lib/python3.8/site-packages (from python-dateutil>=2.7.3->pandas->gradio) (1.16.0)\n",
      "Requirement already satisfied: setuptools in /home/ndip/miniconda3/envs/neural/lib/python3.8/site-packages (from setuptools-scm>=4->matplotlib->gradio) (59.5.0)\n",
      "Requirement already satisfied: tomli>=1.0.0 in /home/ndip/miniconda3/envs/neural/lib/python3.8/site-packages (from setuptools-scm>=4->matplotlib->gradio) (2.0.1)\n",
      "Requirement already satisfied: zipp>=3.1.0 in /home/ndip/miniconda3/envs/neural/lib/python3.8/site-packages (from importlib-resources>=1.4.0->jsonschema>=3.0->altair>=4.2.0->gradio) (3.14.0)\n"
     ]
    }
   ],
   "source": [
    "!pip install gradio jinja2"
   ]
  },
  {
   "cell_type": "code",
   "execution_count": 47,
   "id": "1314229a",
   "metadata": {},
   "outputs": [],
   "source": [
    "import tensorflow as tf\n",
    "import gradio as gr\n",
    "\n",
    "model = tf.keras.models.load_model(\"DropOut_ToxicPredict.h5\")"
   ]
  },
  {
   "cell_type": "code",
   "execution_count": 48,
   "id": "f3ceecdc",
   "metadata": {},
   "outputs": [
    {
     "name": "stdout",
     "output_type": "stream",
     "text": [
      "[[False False False False False False]]\n"
     ]
    },
    {
     "data": {
      "text/plain": [
       "Index(['toxic', 'severe_toxic', 'obscene', 'threat', 'insult',\n",
       "       'identity_hate'],\n",
       "      dtype='object')"
      ]
     },
     "execution_count": 48,
     "metadata": {},
     "output_type": "execute_result"
    }
   ],
   "source": [
    "# good text check\n",
    "text_check = vectorize('I will help you without a doubt')\n",
    "\n",
    "res = model.predict(np.expand_dims(text_check, 0))\n",
    "print(res > 0.5)\n",
    "\n",
    "train_data.columns[2:]"
   ]
  },
  {
   "cell_type": "code",
   "execution_count": 49,
   "id": "5c6d1e3a",
   "metadata": {},
   "outputs": [
    {
     "name": "stdout",
     "output_type": "stream",
     "text": [
      "[[0.9647006  0.37671682 0.92829704 0.8621301  0.8029454  0.27819315]]\n",
      "[[ True False  True  True  True False]]\n"
     ]
    },
    {
     "data": {
      "text/plain": [
       "Index(['toxic', 'severe_toxic', 'obscene', 'threat', 'insult',\n",
       "       'identity_hate'],\n",
       "      dtype='object')"
      ]
     },
     "execution_count": 49,
     "metadata": {},
     "output_type": "execute_result"
    }
   ],
   "source": [
    "#Toxic check\n",
    "hate_check = vectorize('I will kill you and your family! you suck')\n",
    "res = model.predict(np.expand_dims(hate_check, 0))\n",
    "print(res)\n",
    "print(res>0.5)\n",
    "train_data.columns[2:]"
   ]
  },
  {
   "cell_type": "code",
   "execution_count": 50,
   "id": "bf61960b",
   "metadata": {},
   "outputs": [
    {
     "data": {
      "text/plain": [
       "Index(['toxic', 'severe_toxic', 'obscene', 'threat', 'insult',\n",
       "       'identity_hate'],\n",
       "      dtype='object')"
      ]
     },
     "execution_count": 50,
     "metadata": {},
     "output_type": "execute_result"
    }
   ],
   "source": [
    "train_data.columns[2:]"
   ]
  },
  {
   "cell_type": "code",
   "execution_count": 51,
   "id": "98bc6df7",
   "metadata": {},
   "outputs": [],
   "source": [
    "def new_comment_interface(comment):\n",
    "    vectorize_comment = vectorize([comment])\n",
    "    results = model.predict(vectorize_comment)\n",
    "    \n",
    "    text = ''\n",
    "    for idx, col in enumerate(train_data.columns[2:]):\n",
    "        text += '{}: {}\\n'. format(col, results[0][idx]>0.5)\n",
    "    return text"
   ]
  },
  {
   "cell_type": "code",
   "execution_count": 52,
   "id": "34ef399b",
   "metadata": {},
   "outputs": [
    {
     "name": "stderr",
     "output_type": "stream",
     "text": [
      "/home/ndip/miniconda3/envs/neural/lib/python3.8/site-packages/gradio/inputs.py:27: UserWarning: Usage of gradio.inputs is deprecated, and will not be supported in the future, please import your component from gradio.components\n",
      "  warnings.warn(\n",
      "/home/ndip/miniconda3/envs/neural/lib/python3.8/site-packages/gradio/deprecation.py:40: UserWarning: `optional` parameter is deprecated, and it has no effect\n",
      "  warnings.warn(value)\n",
      "/home/ndip/miniconda3/envs/neural/lib/python3.8/site-packages/gradio/deprecation.py:40: UserWarning: `numeric` parameter is deprecated, and it has no effect\n",
      "  warnings.warn(value)\n"
     ]
    },
    {
     "name": "stdout",
     "output_type": "stream",
     "text": [
      "Running on local URL:  http://127.0.0.1:7860\n",
      "Running on public URL: https://4717621b9ccd1a5b6f.gradio.live\n",
      "\n",
      "This share link expires in 72 hours. For free permanent hosting and GPU upgrades (NEW!), check out Spaces: https://huggingface.co/spaces\n"
     ]
    },
    {
     "data": {
      "text/html": [
       "<div><iframe src=\"https://4717621b9ccd1a5b6f.gradio.live\" width=\"100%\" height=\"500\" allow=\"autoplay; camera; microphone; clipboard-read; clipboard-write;\" frameborder=\"0\" allowfullscreen></iframe></div>"
      ],
      "text/plain": [
       "<IPython.core.display.HTML object>"
      ]
     },
     "metadata": {},
     "output_type": "display_data"
    },
    {
     "data": {
      "text/plain": []
     },
     "execution_count": 52,
     "metadata": {},
     "output_type": "execute_result"
    }
   ],
   "source": [
    "interface = gr.Interface(fn = new_comment_interface,\n",
    "                        inputs = gr.inputs.Textbox(lines = 2, placeholder = 'post_comment to check'),outputs = 'text')\n",
    "\n",
    "interface.launch(share = True)"
   ]
  },
  {
   "cell_type": "code",
   "execution_count": null,
   "id": "988474a1",
   "metadata": {},
   "outputs": [],
   "source": []
  }
 ],
 "metadata": {
  "kernelspec": {
   "display_name": "Python 3 (ipykernel)",
   "language": "python",
   "name": "python3"
  },
  "language_info": {
   "codemirror_mode": {
    "name": "ipython",
    "version": 3
   },
   "file_extension": ".py",
   "mimetype": "text/x-python",
   "name": "python",
   "nbconvert_exporter": "python",
   "pygments_lexer": "ipython3",
   "version": "3.8.16"
  }
 },
 "nbformat": 4,
 "nbformat_minor": 5
}
